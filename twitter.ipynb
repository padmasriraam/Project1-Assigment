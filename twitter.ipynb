{
 "cells": [
  {
   "cell_type": "markdown",
   "id": "bb06545f-47b4-482e-b0c1-5c9ffbeec6c8",
   "metadata": {},
   "source": [
    "# Twitter Data Sentiment Analysis\n",
    "\n",
    "In this file we are performing sentiment analysis on the ElonMusk tweet data and performing visualisation on his tweets"
   ]
  },
  {
   "cell_type": "code",
   "execution_count": 1,
   "id": "6d48d303-0a0b-4070-a21e-b33916eee517",
   "metadata": {},
   "outputs": [],
   "source": [
    "# Initial imports\n",
    "\n",
    "import requests\n",
    "import os\n",
    "import json\n",
    "from dotenv import load_dotenv\n",
    "import pandas as pd\n",
    "import matplotlib.pyplot as plt\n",
    "\n",
    "# tweepy for twitter data requests\n",
    "import tweepy as tw\n",
    "\n",
    "from monkeylearn import MonkeyLearn\n",
    " "
   ]
  },
  {
   "cell_type": "markdown",
   "id": "68fdef1d-b400-44f8-92a0-526e955a7405",
   "metadata": {},
   "source": [
    "### Loading environment variables"
   ]
  },
  {
   "cell_type": "code",
   "execution_count": 2,
   "id": "12cd403b-d543-463c-8886-3778c8f3995e",
   "metadata": {},
   "outputs": [],
   "source": [
    "# Loading environment variables\n",
    "load_dotenv()\n",
    "\n",
    "# Loading the twitter tokens and keys for twitter OAuth access\n",
    "consumer_key = os.getenv(\"consumer_key\")\n",
    "consumer_secret = os.getenv(\"consumer_secret\")\n",
    "access_token = os.getenv(\"access_token\")\n",
    "access_token_secret = os.getenv(\"access_token_secret\")\n",
    "bearer_token = os.getenv(\"BEARER\")\n",
    "\n",
    "# Loading the monkeylearn api key for sentiment analysis\n",
    "monkeylearn_key = os.getenv(\"monkey_learn\")"
   ]
  },
  {
   "cell_type": "markdown",
   "id": "72ecad96-a67f-49cf-9093-b41592be83eb",
   "metadata": {},
   "source": [
    "### Twitter api client setup for elonmusk tweet"
   ]
  },
  {
   "cell_type": "code",
   "execution_count": 3,
   "id": "65e5148f-c1b2-4b79-a9f1-4a16d598a510",
   "metadata": {},
   "outputs": [],
   "source": [
    "# Twitter api client setup for elonmusk tweet\n",
    "query = 'from:elonmusk -is:retweet'\n",
    "client = tw.Client( bearer_token=bearer_token, \n",
    "                        consumer_key=consumer_key, \n",
    "                        consumer_secret=consumer_secret, \n",
    "                        access_token=access_token, \n",
    "                        access_token_secret=access_token_secret, \n",
    "                        return_type = requests.Response,\n",
    "                        wait_on_rate_limit=True)\n",
    "     "
   ]
  },
  {
   "cell_type": "code",
   "execution_count": 4,
   "id": "fa5c0d85-1a18-4828-ab89-687bb8e1fe9b",
   "metadata": {},
   "outputs": [
    {
     "data": {
      "text/html": [
       "<div>\n",
       "<style scoped>\n",
       "    .dataframe tbody tr th:only-of-type {\n",
       "        vertical-align: middle;\n",
       "    }\n",
       "\n",
       "    .dataframe tbody tr th {\n",
       "        vertical-align: top;\n",
       "    }\n",
       "\n",
       "    .dataframe thead th {\n",
       "        text-align: right;\n",
       "    }\n",
       "</style>\n",
       "<table border=\"1\" class=\"dataframe\">\n",
       "  <thead>\n",
       "    <tr style=\"text-align: right;\">\n",
       "      <th></th>\n",
       "      <th>created_at</th>\n",
       "      <th>id</th>\n",
       "      <th>text</th>\n",
       "      <th>author_id</th>\n",
       "    </tr>\n",
       "  </thead>\n",
       "  <tbody>\n",
       "    <tr>\n",
       "      <th>90</th>\n",
       "      <td>2022-05-12T00:25:30.000Z</td>\n",
       "      <td>1524546271964504066</td>\n",
       "      <td>Tap on the stars in upper right of screen to r...</td>\n",
       "      <td>44196397</td>\n",
       "    </tr>\n",
       "    <tr>\n",
       "      <th>91</th>\n",
       "      <td>2022-05-12T00:24:46.000Z</td>\n",
       "      <td>1524546085590646786</td>\n",
       "      <td>Chronological tweets seem much better than wha...</td>\n",
       "      <td>44196397</td>\n",
       "    </tr>\n",
       "    <tr>\n",
       "      <th>92</th>\n",
       "      <td>2022-05-11T19:34:04.000Z</td>\n",
       "      <td>1524472930469650434</td>\n",
       "      <td>@stevenmarkryan Literally true. Even 100x is p...</td>\n",
       "      <td>44196397</td>\n",
       "    </tr>\n",
       "    <tr>\n",
       "      <th>93</th>\n",
       "      <td>2022-05-11T19:32:21.000Z</td>\n",
       "      <td>1524472498074628097</td>\n",
       "      <td>@WholeMarsBlog Without billions of miles of tr...</td>\n",
       "      <td>44196397</td>\n",
       "    </tr>\n",
       "    <tr>\n",
       "      <th>94</th>\n",
       "      <td>2022-05-11T19:24:56.000Z</td>\n",
       "      <td>1524470633349922822</td>\n",
       "      <td>https://t.co/CWWDdur0oz</td>\n",
       "      <td>44196397</td>\n",
       "    </tr>\n",
       "    <tr>\n",
       "      <th>95</th>\n",
       "      <td>2022-05-11T19:01:50.000Z</td>\n",
       "      <td>1524464817049935873</td>\n",
       "      <td>@henrylmcnamara 🤣</td>\n",
       "      <td>44196397</td>\n",
       "    </tr>\n",
       "    <tr>\n",
       "      <th>96</th>\n",
       "      <td>2022-05-11T02:39:49.000Z</td>\n",
       "      <td>1524217684803690496</td>\n",
       "      <td>@WholeMarsBlog @akidesir Release notes on this...</td>\n",
       "      <td>44196397</td>\n",
       "    </tr>\n",
       "    <tr>\n",
       "      <th>97</th>\n",
       "      <td>2022-05-11T02:18:05.000Z</td>\n",
       "      <td>1524212214206550017</td>\n",
       "      <td>@akidesir Probably this weekend. Lot of code u...</td>\n",
       "      <td>44196397</td>\n",
       "    </tr>\n",
       "    <tr>\n",
       "      <th>98</th>\n",
       "      <td>2022-05-11T01:00:15.000Z</td>\n",
       "      <td>1524192627364708355</td>\n",
       "      <td>@BillyM2k Exactly</td>\n",
       "      <td>44196397</td>\n",
       "    </tr>\n",
       "    <tr>\n",
       "      <th>99</th>\n",
       "      <td>2022-05-11T00:56:54.000Z</td>\n",
       "      <td>1524191785760788480</td>\n",
       "      <td>Starlink has resisted Russian cyberwar jamming...</td>\n",
       "      <td>44196397</td>\n",
       "    </tr>\n",
       "  </tbody>\n",
       "</table>\n",
       "</div>"
      ],
      "text/plain": [
       "                  created_at                   id  \\\n",
       "90  2022-05-12T00:25:30.000Z  1524546271964504066   \n",
       "91  2022-05-12T00:24:46.000Z  1524546085590646786   \n",
       "92  2022-05-11T19:34:04.000Z  1524472930469650434   \n",
       "93  2022-05-11T19:32:21.000Z  1524472498074628097   \n",
       "94  2022-05-11T19:24:56.000Z  1524470633349922822   \n",
       "95  2022-05-11T19:01:50.000Z  1524464817049935873   \n",
       "96  2022-05-11T02:39:49.000Z  1524217684803690496   \n",
       "97  2022-05-11T02:18:05.000Z  1524212214206550017   \n",
       "98  2022-05-11T01:00:15.000Z  1524192627364708355   \n",
       "99  2022-05-11T00:56:54.000Z  1524191785760788480   \n",
       "\n",
       "                                                 text author_id  \n",
       "90  Tap on the stars in upper right of screen to r...  44196397  \n",
       "91  Chronological tweets seem much better than wha...  44196397  \n",
       "92  @stevenmarkryan Literally true. Even 100x is p...  44196397  \n",
       "93  @WholeMarsBlog Without billions of miles of tr...  44196397  \n",
       "94                            https://t.co/CWWDdur0oz  44196397  \n",
       "95                                  @henrylmcnamara 🤣  44196397  \n",
       "96  @WholeMarsBlog @akidesir Release notes on this...  44196397  \n",
       "97  @akidesir Probably this weekend. Lot of code u...  44196397  \n",
       "98                                  @BillyM2k Exactly  44196397  \n",
       "99  Starlink has resisted Russian cyberwar jamming...  44196397  "
      ]
     },
     "execution_count": 4,
     "metadata": {},
     "output_type": "execute_result"
    }
   ],
   "source": [
    "    \n",
    "# start time of the data parameter\n",
    "start_time = '2021-01-01T00:00:00Z'\n",
    "\n",
    "# end_time of the data parameter\n",
    "end_time = '2022-05-06T00:00:00Z'\n",
    "\n",
    "userid=\"44196397\"\n",
    "\n",
    "# get maximun 100 tweets for last 7 days only\n",
    "tweets = client.search_recent_tweets(query=query, \n",
    "                                     tweet_fields=['text','author_id', 'created_at'],\n",
    "                                     max_results=100)\n",
    "\n",
    "\n",
    "tweets_dict = tweets.json()\n",
    "tweets_data = tweets_dict['data'] \n",
    "df = pd.json_normalize(tweets_data) \n",
    "\n",
    "df.tail(10)"
   ]
  },
  {
   "cell_type": "markdown",
   "id": "2cfe9658-2be7-49fa-8576-06bee2a281c4",
   "metadata": {},
   "source": [
    "#### There is a limitation that search_all_tweets in API v2 is not available for the elevated access level. \n",
    "#### It is available only the 'Academic Research' level access has the access to all time data. \n",
    "#### Ignore below failure as we have sourced the dataset from https://www.kaggle.com/datasets/ayhmrba/elon-musk-tweets-2010-2021?select=2021.csv"
   ]
  },
  {
   "cell_type": "code",
   "execution_count": 5,
   "id": "e9fe7166-5042-4d75-9a96-ae3478763acc",
   "metadata": {},
   "outputs": [
    {
     "ename": "Forbidden",
     "evalue": "403 Forbidden\nWhen authenticating requests to the Twitter API v2 endpoints, you must use keys and tokens from a Twitter developer App that is attached to a Project. You can create a project via the developer portal.",
     "output_type": "error",
     "traceback": [
      "\u001b[1;31m---------------------------------------------------------------------------\u001b[0m",
      "\u001b[1;31mForbidden\u001b[0m                                 Traceback (most recent call last)",
      "Input \u001b[1;32mIn [5]\u001b[0m, in \u001b[0;36m<cell line: 3>\u001b[1;34m()\u001b[0m\n\u001b[0;32m      1\u001b[0m \u001b[38;5;66;03m# due to the limitation on search_recent_tweets trying different api call to fetch full data\u001b[39;00m\n\u001b[1;32m----> 3\u001b[0m tweets \u001b[38;5;241m=\u001b[39m \u001b[43mclient\u001b[49m\u001b[38;5;241;43m.\u001b[39;49m\u001b[43msearch_all_tweets\u001b[49m\u001b[43m(\u001b[49m\u001b[43mquery\u001b[49m\u001b[38;5;241;43m=\u001b[39;49m\u001b[43mquery\u001b[49m\u001b[43m,\u001b[49m\u001b[43m \u001b[49m\u001b[43mtweet_fields\u001b[49m\u001b[38;5;241;43m=\u001b[39;49m\u001b[43m[\u001b[49m\u001b[38;5;124;43m'\u001b[39;49m\u001b[38;5;124;43mtext\u001b[39;49m\u001b[38;5;124;43m'\u001b[39;49m\u001b[43m,\u001b[49m\u001b[38;5;124;43m'\u001b[39;49m\u001b[38;5;124;43mauthor_id\u001b[39;49m\u001b[38;5;124;43m'\u001b[39;49m\u001b[43m,\u001b[49m\u001b[43m \u001b[49m\u001b[38;5;124;43m'\u001b[39;49m\u001b[38;5;124;43mcreated_at\u001b[39;49m\u001b[38;5;124;43m'\u001b[39;49m\u001b[43m]\u001b[49m\u001b[43m,\u001b[49m\n\u001b[0;32m      4\u001b[0m \u001b[43m                                  \u001b[49m\u001b[43mstart_time\u001b[49m\u001b[38;5;241;43m=\u001b[39;49m\u001b[43mstart_time\u001b[49m\u001b[43m,\u001b[49m\n\u001b[0;32m      5\u001b[0m \u001b[43m                                  \u001b[49m\u001b[43mend_time\u001b[49m\u001b[38;5;241;43m=\u001b[39;49m\u001b[43mend_time\u001b[49m\u001b[43m,\u001b[49m\u001b[43m \u001b[49m\n\u001b[0;32m      6\u001b[0m \u001b[43m                                  \u001b[49m\u001b[43mmax_results\u001b[49m\u001b[38;5;241;43m=\u001b[39;49m\u001b[38;5;241;43m100\u001b[39;49m\u001b[43m)\u001b[49m\n",
      "File \u001b[1;32m~\\anaconda3\\lib\\site-packages\\tweepy\\client.py:1145\u001b[0m, in \u001b[0;36mClient.search_all_tweets\u001b[1;34m(self, query, **params)\u001b[0m\n\u001b[0;32m   1053\u001b[0m \u001b[38;5;124;03m\"\"\"search_all_tweets( \\\u001b[39;00m\n\u001b[0;32m   1054\u001b[0m \u001b[38;5;124;03m    query, *, end_time=None, expansions=None, max_results=None, \\\u001b[39;00m\n\u001b[0;32m   1055\u001b[0m \u001b[38;5;124;03m    media_fields=None, next_token=None, place_fields=None, \\\u001b[39;00m\n\u001b[1;32m   (...)\u001b[0m\n\u001b[0;32m   1142\u001b[0m \u001b[38;5;124;03m.. _pagination: https://developer.twitter.com/en/docs/twitter-api/tweets/search/integrate/paginate\u001b[39;00m\n\u001b[0;32m   1143\u001b[0m \u001b[38;5;124;03m\"\"\"\u001b[39;00m\n\u001b[0;32m   1144\u001b[0m params[\u001b[38;5;124m\"\u001b[39m\u001b[38;5;124mquery\u001b[39m\u001b[38;5;124m\"\u001b[39m] \u001b[38;5;241m=\u001b[39m query\n\u001b[1;32m-> 1145\u001b[0m \u001b[38;5;28;01mreturn\u001b[39;00m \u001b[38;5;28;43mself\u001b[39;49m\u001b[38;5;241;43m.\u001b[39;49m\u001b[43m_make_request\u001b[49m\u001b[43m(\u001b[49m\n\u001b[0;32m   1146\u001b[0m \u001b[43m    \u001b[49m\u001b[38;5;124;43m\"\u001b[39;49m\u001b[38;5;124;43mGET\u001b[39;49m\u001b[38;5;124;43m\"\u001b[39;49m\u001b[43m,\u001b[49m\u001b[43m \u001b[49m\u001b[38;5;124;43m\"\u001b[39;49m\u001b[38;5;124;43m/2/tweets/search/all\u001b[39;49m\u001b[38;5;124;43m\"\u001b[39;49m\u001b[43m,\u001b[49m\u001b[43m \u001b[49m\u001b[43mparams\u001b[49m\u001b[38;5;241;43m=\u001b[39;49m\u001b[43mparams\u001b[49m\u001b[43m,\u001b[49m\n\u001b[0;32m   1147\u001b[0m \u001b[43m    \u001b[49m\u001b[43mendpoint_parameters\u001b[49m\u001b[38;5;241;43m=\u001b[39;49m\u001b[43m(\u001b[49m\n\u001b[0;32m   1148\u001b[0m \u001b[43m        \u001b[49m\u001b[38;5;124;43m\"\u001b[39;49m\u001b[38;5;124;43mend_time\u001b[39;49m\u001b[38;5;124;43m\"\u001b[39;49m\u001b[43m,\u001b[49m\u001b[43m \u001b[49m\u001b[38;5;124;43m\"\u001b[39;49m\u001b[38;5;124;43mexpansions\u001b[39;49m\u001b[38;5;124;43m\"\u001b[39;49m\u001b[43m,\u001b[49m\u001b[43m \u001b[49m\u001b[38;5;124;43m\"\u001b[39;49m\u001b[38;5;124;43mmax_results\u001b[39;49m\u001b[38;5;124;43m\"\u001b[39;49m\u001b[43m,\u001b[49m\u001b[43m \u001b[49m\u001b[38;5;124;43m\"\u001b[39;49m\u001b[38;5;124;43mmedia.fields\u001b[39;49m\u001b[38;5;124;43m\"\u001b[39;49m\u001b[43m,\u001b[49m\n\u001b[0;32m   1149\u001b[0m \u001b[43m        \u001b[49m\u001b[38;5;124;43m\"\u001b[39;49m\u001b[38;5;124;43mnext_token\u001b[39;49m\u001b[38;5;124;43m\"\u001b[39;49m\u001b[43m,\u001b[49m\u001b[43m \u001b[49m\u001b[38;5;124;43m\"\u001b[39;49m\u001b[38;5;124;43mplace.fields\u001b[39;49m\u001b[38;5;124;43m\"\u001b[39;49m\u001b[43m,\u001b[49m\u001b[43m \u001b[49m\u001b[38;5;124;43m\"\u001b[39;49m\u001b[38;5;124;43mpoll.fields\u001b[39;49m\u001b[38;5;124;43m\"\u001b[39;49m\u001b[43m,\u001b[49m\u001b[43m \u001b[49m\u001b[38;5;124;43m\"\u001b[39;49m\u001b[38;5;124;43mquery\u001b[39;49m\u001b[38;5;124;43m\"\u001b[39;49m\u001b[43m,\u001b[49m\n\u001b[0;32m   1150\u001b[0m \u001b[43m        \u001b[49m\u001b[38;5;124;43m\"\u001b[39;49m\u001b[38;5;124;43msince_id\u001b[39;49m\u001b[38;5;124;43m\"\u001b[39;49m\u001b[43m,\u001b[49m\u001b[43m \u001b[49m\u001b[38;5;124;43m\"\u001b[39;49m\u001b[38;5;124;43msort_order\u001b[39;49m\u001b[38;5;124;43m\"\u001b[39;49m\u001b[43m,\u001b[49m\u001b[43m \u001b[49m\u001b[38;5;124;43m\"\u001b[39;49m\u001b[38;5;124;43mstart_time\u001b[39;49m\u001b[38;5;124;43m\"\u001b[39;49m\u001b[43m,\u001b[49m\u001b[43m \u001b[49m\u001b[38;5;124;43m\"\u001b[39;49m\u001b[38;5;124;43mtweet.fields\u001b[39;49m\u001b[38;5;124;43m\"\u001b[39;49m\u001b[43m,\u001b[49m\n\u001b[0;32m   1151\u001b[0m \u001b[43m        \u001b[49m\u001b[38;5;124;43m\"\u001b[39;49m\u001b[38;5;124;43muntil_id\u001b[39;49m\u001b[38;5;124;43m\"\u001b[39;49m\u001b[43m,\u001b[49m\u001b[43m \u001b[49m\u001b[38;5;124;43m\"\u001b[39;49m\u001b[38;5;124;43muser.fields\u001b[39;49m\u001b[38;5;124;43m\"\u001b[39;49m\n\u001b[0;32m   1152\u001b[0m \u001b[43m    \u001b[49m\u001b[43m)\u001b[49m\u001b[43m,\u001b[49m\u001b[43m \u001b[49m\u001b[43mdata_type\u001b[49m\u001b[38;5;241;43m=\u001b[39;49m\u001b[43mTweet\u001b[49m\n\u001b[0;32m   1153\u001b[0m \u001b[43m\u001b[49m\u001b[43m)\u001b[49m\n",
      "File \u001b[1;32m~\\anaconda3\\lib\\site-packages\\tweepy\\client.py:126\u001b[0m, in \u001b[0;36mBaseClient._make_request\u001b[1;34m(self, method, route, params, endpoint_parameters, json, data_type, user_auth)\u001b[0m\n\u001b[0;32m    122\u001b[0m \u001b[38;5;28;01mdef\u001b[39;00m \u001b[38;5;21m_make_request\u001b[39m(\u001b[38;5;28mself\u001b[39m, method, route, params\u001b[38;5;241m=\u001b[39m{}, endpoint_parameters\u001b[38;5;241m=\u001b[39m\u001b[38;5;28;01mNone\u001b[39;00m,\n\u001b[0;32m    123\u001b[0m                   json\u001b[38;5;241m=\u001b[39m\u001b[38;5;28;01mNone\u001b[39;00m, data_type\u001b[38;5;241m=\u001b[39m\u001b[38;5;28;01mNone\u001b[39;00m, user_auth\u001b[38;5;241m=\u001b[39m\u001b[38;5;28;01mFalse\u001b[39;00m):\n\u001b[0;32m    124\u001b[0m     request_params \u001b[38;5;241m=\u001b[39m \u001b[38;5;28mself\u001b[39m\u001b[38;5;241m.\u001b[39m_process_params(params, endpoint_parameters)\n\u001b[1;32m--> 126\u001b[0m     response \u001b[38;5;241m=\u001b[39m \u001b[38;5;28;43mself\u001b[39;49m\u001b[38;5;241;43m.\u001b[39;49m\u001b[43mrequest\u001b[49m\u001b[43m(\u001b[49m\u001b[43mmethod\u001b[49m\u001b[43m,\u001b[49m\u001b[43m \u001b[49m\u001b[43mroute\u001b[49m\u001b[43m,\u001b[49m\u001b[43m \u001b[49m\u001b[43mparams\u001b[49m\u001b[38;5;241;43m=\u001b[39;49m\u001b[43mrequest_params\u001b[49m\u001b[43m,\u001b[49m\n\u001b[0;32m    127\u001b[0m \u001b[43m                            \u001b[49m\u001b[43mjson\u001b[49m\u001b[38;5;241;43m=\u001b[39;49m\u001b[43mjson\u001b[49m\u001b[43m,\u001b[49m\u001b[43m \u001b[49m\u001b[43muser_auth\u001b[49m\u001b[38;5;241;43m=\u001b[39;49m\u001b[43muser_auth\u001b[49m\u001b[43m)\u001b[49m\n\u001b[0;32m    129\u001b[0m     \u001b[38;5;28;01mif\u001b[39;00m \u001b[38;5;28mself\u001b[39m\u001b[38;5;241m.\u001b[39mreturn_type \u001b[38;5;129;01mis\u001b[39;00m requests\u001b[38;5;241m.\u001b[39mResponse:\n\u001b[0;32m    130\u001b[0m         \u001b[38;5;28;01mreturn\u001b[39;00m response\n",
      "File \u001b[1;32m~\\anaconda3\\lib\\site-packages\\tweepy\\client.py:99\u001b[0m, in \u001b[0;36mBaseClient.request\u001b[1;34m(self, method, route, params, json, user_auth)\u001b[0m\n\u001b[0;32m     97\u001b[0m     \u001b[38;5;28;01mraise\u001b[39;00m Unauthorized(response)\n\u001b[0;32m     98\u001b[0m \u001b[38;5;28;01mif\u001b[39;00m response\u001b[38;5;241m.\u001b[39mstatus_code \u001b[38;5;241m==\u001b[39m \u001b[38;5;241m403\u001b[39m:\n\u001b[1;32m---> 99\u001b[0m     \u001b[38;5;28;01mraise\u001b[39;00m Forbidden(response)\n\u001b[0;32m    100\u001b[0m \u001b[38;5;28;01mif\u001b[39;00m response\u001b[38;5;241m.\u001b[39mstatus_code \u001b[38;5;241m==\u001b[39m \u001b[38;5;241m404\u001b[39m:\n\u001b[0;32m    101\u001b[0m     \u001b[38;5;28;01mraise\u001b[39;00m NotFound(response)\n",
      "\u001b[1;31mForbidden\u001b[0m: 403 Forbidden\nWhen authenticating requests to the Twitter API v2 endpoints, you must use keys and tokens from a Twitter developer App that is attached to a Project. You can create a project via the developer portal."
     ]
    }
   ],
   "source": [
    "# due to the limitation on search_recent_tweets trying different api call to fetch full data\n",
    "\n",
    "tweets = client.search_all_tweets(query=query, tweet_fields=['text','author_id', 'created_at'],\n",
    "                                  start_time=start_time,\n",
    "                                  end_time=end_time, \n",
    "                                  max_results=100)\n",
    "\n",
    "# There is a limitation that search_all_tweets in API v2 is not available for the elevated access level. \n",
    "# only the 'Academic Research' level access has the access to all time data. "
   ]
  },
  {
   "cell_type": "markdown",
   "id": "c05043cc-7961-4db9-83a7-c8004ecb796a",
   "metadata": {},
   "source": [
    " * Due to the twitter limiation on historical data use the kaggle to fetch the publicly available dataset\n",
    " * https://www.kaggle.com/datasets/ayhmrba/elon-musk-tweets-2010-2021?select=2021.csv\n"
   ]
  },
  {
   "cell_type": "code",
   "execution_count": 6,
   "id": "18d417d8-a633-4f0a-9ee6-8db6ff9099a5",
   "metadata": {},
   "outputs": [
    {
     "data": {
      "text/html": [
       "<div>\n",
       "<style scoped>\n",
       "    .dataframe tbody tr th:only-of-type {\n",
       "        vertical-align: middle;\n",
       "    }\n",
       "\n",
       "    .dataframe tbody tr th {\n",
       "        vertical-align: top;\n",
       "    }\n",
       "\n",
       "    .dataframe thead th {\n",
       "        text-align: right;\n",
       "    }\n",
       "</style>\n",
       "<table border=\"1\" class=\"dataframe\">\n",
       "  <thead>\n",
       "    <tr style=\"text-align: right;\">\n",
       "      <th></th>\n",
       "      <th>date</th>\n",
       "      <th>name</th>\n",
       "      <th>tweet</th>\n",
       "      <th>replies_count</th>\n",
       "      <th>retweets_count</th>\n",
       "      <th>likes_count</th>\n",
       "    </tr>\n",
       "    <tr>\n",
       "      <th>id</th>\n",
       "      <th></th>\n",
       "      <th></th>\n",
       "      <th></th>\n",
       "      <th></th>\n",
       "      <th></th>\n",
       "      <th></th>\n",
       "    </tr>\n",
       "  </thead>\n",
       "  <tbody>\n",
       "    <tr>\n",
       "      <th>1.476662e+18</th>\n",
       "      <td>2021-12-31</td>\n",
       "      <td>Elon Musk</td>\n",
       "      <td>@roshanpateI 🤣 $7</td>\n",
       "      <td>793</td>\n",
       "      <td>364</td>\n",
       "      <td>13468</td>\n",
       "    </tr>\n",
       "    <tr>\n",
       "      <th>1.476656e+18</th>\n",
       "      <td>2021-12-31</td>\n",
       "      <td>Elon Musk</td>\n",
       "      <td>@tesla_raj Many UI improvements coming</td>\n",
       "      <td>1008</td>\n",
       "      <td>435</td>\n",
       "      <td>12209</td>\n",
       "    </tr>\n",
       "    <tr>\n",
       "      <th>1.476652e+18</th>\n",
       "      <td>2021-12-31</td>\n",
       "      <td>Elon Musk</td>\n",
       "      <td>@CSmithson80 @heydave7 @BLKMDL3 @mims This cha...</td>\n",
       "      <td>240</td>\n",
       "      <td>143</td>\n",
       "      <td>2529</td>\n",
       "    </tr>\n",
       "    <tr>\n",
       "      <th>1.476620e+18</th>\n",
       "      <td>2021-12-30</td>\n",
       "      <td>Elon Musk</td>\n",
       "      <td>@BLKMDL3 @mims Predicting macroeconomics is ch...</td>\n",
       "      <td>709</td>\n",
       "      <td>1235</td>\n",
       "      <td>5756</td>\n",
       "    </tr>\n",
       "    <tr>\n",
       "      <th>1.476618e+18</th>\n",
       "      <td>2021-12-30</td>\n",
       "      <td>Elon Musk</td>\n",
       "      <td>@mims If history is any guide, not many will m...</td>\n",
       "      <td>370</td>\n",
       "      <td>549</td>\n",
       "      <td>5247</td>\n",
       "    </tr>\n",
       "  </tbody>\n",
       "</table>\n",
       "</div>"
      ],
      "text/plain": [
       "                    date       name  \\\n",
       "id                                    \n",
       "1.476662e+18  2021-12-31  Elon Musk   \n",
       "1.476656e+18  2021-12-31  Elon Musk   \n",
       "1.476652e+18  2021-12-31  Elon Musk   \n",
       "1.476620e+18  2021-12-30  Elon Musk   \n",
       "1.476618e+18  2021-12-30  Elon Musk   \n",
       "\n",
       "                                                          tweet  \\\n",
       "id                                                                \n",
       "1.476662e+18                                  @roshanpateI 🤣 $7   \n",
       "1.476656e+18             @tesla_raj Many UI improvements coming   \n",
       "1.476652e+18  @CSmithson80 @heydave7 @BLKMDL3 @mims This cha...   \n",
       "1.476620e+18  @BLKMDL3 @mims Predicting macroeconomics is ch...   \n",
       "1.476618e+18  @mims If history is any guide, not many will m...   \n",
       "\n",
       "              replies_count  retweets_count  likes_count  \n",
       "id                                                        \n",
       "1.476662e+18            793             364        13468  \n",
       "1.476656e+18           1008             435        12209  \n",
       "1.476652e+18            240             143         2529  \n",
       "1.476620e+18            709            1235         5756  \n",
       "1.476618e+18            370             549         5247  "
      ]
     },
     "execution_count": 6,
     "metadata": {},
     "output_type": "execute_result"
    }
   ],
   "source": [
    "# Loading the tweet data from csv file to dataframe\n",
    "\n",
    "tweet_path = \"Resources/2021_ElonMusk_Tweets.csv\"\n",
    "tweet_df = pd.read_csv( tweet_path, index_col=\"id\", infer_datetime_format=True, parse_dates=True)\n",
    "tweet_df.sort_index()\n",
    "tweet_df.head()"
   ]
  },
  {
   "cell_type": "code",
   "execution_count": 7,
   "id": "7d6a4e44-3ddd-4ff3-a615-02eadae2bc2c",
   "metadata": {},
   "outputs": [
    {
     "data": {
      "text/plain": [
       "date              0\n",
       "name              0\n",
       "tweet             0\n",
       "replies_count     0\n",
       "retweets_count    0\n",
       "likes_count       0\n",
       "dtype: int64"
      ]
     },
     "execution_count": 7,
     "metadata": {},
     "output_type": "execute_result"
    }
   ],
   "source": [
    "# cleanup the data \n",
    "tweet_df.isnull().sum()"
   ]
  },
  {
   "cell_type": "code",
   "execution_count": 8,
   "id": "81d63723-720c-48d0-bf21-c0a4213e8c16",
   "metadata": {},
   "outputs": [
    {
     "name": "stdout",
     "output_type": "stream",
     "text": [
      "\u001b[1mCLEANED NULLS:\n",
      "\u001b[0m\n",
      "date              0\n",
      "name              0\n",
      "tweet             0\n",
      "replies_count     0\n",
      "retweets_count    0\n",
      "likes_count       0\n",
      "dtype: int64\n",
      "\n",
      "\u001b[1mCLEANED TWITTER DATA:\u001b[0m\n",
      "\n"
     ]
    },
    {
     "data": {
      "text/html": [
       "<div>\n",
       "<style scoped>\n",
       "    .dataframe tbody tr th:only-of-type {\n",
       "        vertical-align: middle;\n",
       "    }\n",
       "\n",
       "    .dataframe tbody tr th {\n",
       "        vertical-align: top;\n",
       "    }\n",
       "\n",
       "    .dataframe thead th {\n",
       "        text-align: right;\n",
       "    }\n",
       "</style>\n",
       "<table border=\"1\" class=\"dataframe\">\n",
       "  <thead>\n",
       "    <tr style=\"text-align: right;\">\n",
       "      <th></th>\n",
       "      <th>date</th>\n",
       "      <th>name</th>\n",
       "      <th>tweet</th>\n",
       "      <th>replies_count</th>\n",
       "      <th>retweets_count</th>\n",
       "      <th>likes_count</th>\n",
       "    </tr>\n",
       "    <tr>\n",
       "      <th>id</th>\n",
       "      <th></th>\n",
       "      <th></th>\n",
       "      <th></th>\n",
       "      <th></th>\n",
       "      <th></th>\n",
       "      <th></th>\n",
       "    </tr>\n",
       "  </thead>\n",
       "  <tbody>\n",
       "    <tr>\n",
       "      <th>1.476662e+18</th>\n",
       "      <td>2021-12-31</td>\n",
       "      <td>Elon Musk</td>\n",
       "      <td>@roshanpateI 🤣 $7</td>\n",
       "      <td>793</td>\n",
       "      <td>364</td>\n",
       "      <td>13468</td>\n",
       "    </tr>\n",
       "    <tr>\n",
       "      <th>1.476656e+18</th>\n",
       "      <td>2021-12-31</td>\n",
       "      <td>Elon Musk</td>\n",
       "      <td>@tesla_raj Many UI improvements coming</td>\n",
       "      <td>1008</td>\n",
       "      <td>435</td>\n",
       "      <td>12209</td>\n",
       "    </tr>\n",
       "    <tr>\n",
       "      <th>1.476652e+18</th>\n",
       "      <td>2021-12-31</td>\n",
       "      <td>Elon Musk</td>\n",
       "      <td>@CSmithson80 @heydave7 @BLKMDL3 @mims This cha...</td>\n",
       "      <td>240</td>\n",
       "      <td>143</td>\n",
       "      <td>2529</td>\n",
       "    </tr>\n",
       "    <tr>\n",
       "      <th>1.476620e+18</th>\n",
       "      <td>2021-12-30</td>\n",
       "      <td>Elon Musk</td>\n",
       "      <td>@BLKMDL3 @mims Predicting macroeconomics is ch...</td>\n",
       "      <td>709</td>\n",
       "      <td>1235</td>\n",
       "      <td>5756</td>\n",
       "    </tr>\n",
       "    <tr>\n",
       "      <th>1.476618e+18</th>\n",
       "      <td>2021-12-30</td>\n",
       "      <td>Elon Musk</td>\n",
       "      <td>@mims If history is any guide, not many will m...</td>\n",
       "      <td>370</td>\n",
       "      <td>549</td>\n",
       "      <td>5247</td>\n",
       "    </tr>\n",
       "  </tbody>\n",
       "</table>\n",
       "</div>"
      ],
      "text/plain": [
       "                    date       name  \\\n",
       "id                                    \n",
       "1.476662e+18  2021-12-31  Elon Musk   \n",
       "1.476656e+18  2021-12-31  Elon Musk   \n",
       "1.476652e+18  2021-12-31  Elon Musk   \n",
       "1.476620e+18  2021-12-30  Elon Musk   \n",
       "1.476618e+18  2021-12-30  Elon Musk   \n",
       "\n",
       "                                                          tweet  \\\n",
       "id                                                                \n",
       "1.476662e+18                                  @roshanpateI 🤣 $7   \n",
       "1.476656e+18             @tesla_raj Many UI improvements coming   \n",
       "1.476652e+18  @CSmithson80 @heydave7 @BLKMDL3 @mims This cha...   \n",
       "1.476620e+18  @BLKMDL3 @mims Predicting macroeconomics is ch...   \n",
       "1.476618e+18  @mims If history is any guide, not many will m...   \n",
       "\n",
       "              replies_count  retweets_count  likes_count  \n",
       "id                                                        \n",
       "1.476662e+18            793             364        13468  \n",
       "1.476656e+18           1008             435        12209  \n",
       "1.476652e+18            240             143         2529  \n",
       "1.476620e+18            709            1235         5756  \n",
       "1.476618e+18            370             549         5247  "
      ]
     },
     "execution_count": 8,
     "metadata": {},
     "output_type": "execute_result"
    }
   ],
   "source": [
    "# Drop nulls\n",
    "tweet_df = tweet_df.dropna().copy()\n",
    "print(\"\\033[1mCLEANED NULLS:\\n\\033[0m\")\n",
    "print( tweet_df.isnull().sum())\n",
    "print(\"\\n\\033[1mCLEANED TWITTER DATA:\\033[0m\\n\")\n",
    "tweet_df.head()"
   ]
  },
  {
   "cell_type": "code",
   "execution_count": 9,
   "id": "2c832723-7eb4-452a-bee7-c74a28976c8a",
   "metadata": {},
   "outputs": [
    {
     "data": {
      "text/plain": [
       "(54, 6)"
      ]
     },
     "execution_count": 9,
     "metadata": {},
     "output_type": "execute_result"
    }
   ],
   "source": [
    "# Filter out the tweets that is not bitcoin or crypto related\n",
    "\n",
    "df = tweet_df.loc[tweet_df['tweet'].str.contains(\"bitcoin|crypto\", case=False)]\n",
    "\n",
    "df.to_csv(\"Resources/Filtered_Tweets.csv\")\n",
    "df.shape"
   ]
  },
  {
   "cell_type": "markdown",
   "id": "0addd4fe-85d6-4273-a5c9-02ecd624cbbc",
   "metadata": {},
   "source": [
    "##### MonkeyLearn API call to get sentiment analaysis on the tweets against our model \n",
    "##### Model : cl_BT7fBUhn\n",
    "\n",
    "##### Ignore the below code if throws error as we have reached the limit on the monkeylearn. Since we have already sourced the sentiment analysis into a Processed_Tweet.csv file to use it further"
   ]
  },
  {
   "cell_type": "code",
   "execution_count": 10,
   "id": "223a95e3-75b1-44a9-8e74-06eacc25efe0",
   "metadata": {},
   "outputs": [
    {
     "ename": "PlanQueryLimitError",
     "evalue": "Error PLAN_QUERY_LIMIT: Request Throttled. You do not have enough queries left to perform this action. 54 queries are required, but you have 1 queries remaining.",
     "output_type": "error",
     "traceback": [
      "\u001b[1;31m---------------------------------------------------------------------------\u001b[0m",
      "\u001b[1;31mPlanQueryLimitError\u001b[0m                       Traceback (most recent call last)",
      "Input \u001b[1;32mIn [10]\u001b[0m, in \u001b[0;36m<cell line: 11>\u001b[1;34m()\u001b[0m\n\u001b[0;32m      8\u001b[0m confidence \u001b[38;5;241m=\u001b[39m []\n\u001b[0;32m     10\u001b[0m \u001b[38;5;66;03m# calling the api with passing tweet column data\u001b[39;00m\n\u001b[1;32m---> 11\u001b[0m result \u001b[38;5;241m=\u001b[39m \u001b[43mml\u001b[49m\u001b[38;5;241;43m.\u001b[39;49m\u001b[43mclassifiers\u001b[49m\u001b[38;5;241;43m.\u001b[39;49m\u001b[43mclassify\u001b[49m\u001b[43m(\u001b[49m\u001b[43mmodel_id\u001b[49m\u001b[43m,\u001b[49m\u001b[43m \u001b[49m\u001b[43mdf\u001b[49m\u001b[43m[\u001b[49m\u001b[38;5;124;43m'\u001b[39;49m\u001b[38;5;124;43mtweet\u001b[39;49m\u001b[38;5;124;43m'\u001b[39;49m\u001b[43m]\u001b[49m\u001b[38;5;241;43m.\u001b[39;49m\u001b[43mtolist\u001b[49m\u001b[43m(\u001b[49m\u001b[43m)\u001b[49m\u001b[43m)\u001b[49m\n\u001b[0;32m     13\u001b[0m \u001b[38;5;66;03m#Looping thru the api responce to get the classification data.\u001b[39;00m\n\u001b[0;32m     15\u001b[0m classifications \u001b[38;5;241m=\u001b[39m result\u001b[38;5;241m.\u001b[39mbody\n",
      "File \u001b[1;32m~\\anaconda3\\lib\\site-packages\\monkeylearn\\classification.py:112\u001b[0m, in \u001b[0;36mClassification.classify\u001b[1;34m(self, model_id, data, production_model, batch_size, auto_batch, retry_if_throttled)\u001b[0m\n\u001b[0;32m    106\u001b[0m     data_dict \u001b[38;5;241m=\u001b[39m \u001b[38;5;28mself\u001b[39m\u001b[38;5;241m.\u001b[39mremove_none_value({\n\u001b[0;32m    107\u001b[0m         \u001b[38;5;124m'\u001b[39m\u001b[38;5;124mdata\u001b[39m\u001b[38;5;124m'\u001b[39m: data[i:i \u001b[38;5;241m+\u001b[39m batch_size],\n\u001b[0;32m    108\u001b[0m         \u001b[38;5;124m'\u001b[39m\u001b[38;5;124mproduction_model\u001b[39m\u001b[38;5;124m'\u001b[39m: production_model,\n\u001b[0;32m    109\u001b[0m     })\n\u001b[0;32m    110\u001b[0m     raw_response \u001b[38;5;241m=\u001b[39m \u001b[38;5;28mself\u001b[39m\u001b[38;5;241m.\u001b[39mmake_request(\u001b[38;5;124m'\u001b[39m\u001b[38;5;124mPOST\u001b[39m\u001b[38;5;124m'\u001b[39m, url, data_dict,\n\u001b[0;32m    111\u001b[0m                                      retry_if_throttled\u001b[38;5;241m=\u001b[39mretry_if_throttled)\n\u001b[1;32m--> 112\u001b[0m     \u001b[43mresponse\u001b[49m\u001b[38;5;241;43m.\u001b[39;49m\u001b[43madd_raw_response\u001b[49m\u001b[43m(\u001b[49m\u001b[43mraw_response\u001b[49m\u001b[43m)\u001b[49m\n\u001b[0;32m    114\u001b[0m \u001b[38;5;28;01mreturn\u001b[39;00m response\n",
      "File \u001b[1;32m~\\anaconda3\\lib\\site-packages\\monkeylearn\\response.py:76\u001b[0m, in \u001b[0;36mMonkeyLearnResponse.add_raw_response\u001b[1;34m(self, raw_response)\u001b[0m\n\u001b[0;32m     74\u001b[0m \u001b[38;5;28mself\u001b[39m\u001b[38;5;241m.\u001b[39mraw_responses\u001b[38;5;241m.\u001b[39mappend(raw_response)\n\u001b[0;32m     75\u001b[0m \u001b[38;5;28;01mif\u001b[39;00m raw_response\u001b[38;5;241m.\u001b[39mstatus_code \u001b[38;5;241m!=\u001b[39m requests\u001b[38;5;241m.\u001b[39mcodes\u001b[38;5;241m.\u001b[39mok:\n\u001b[1;32m---> 76\u001b[0m     \u001b[38;5;28;43mself\u001b[39;49m\u001b[38;5;241;43m.\u001b[39;49m\u001b[43mraise_for_status\u001b[49m\u001b[43m(\u001b[49m\u001b[43mraw_response\u001b[49m\u001b[43m)\u001b[49m\n",
      "File \u001b[1;32m~\\anaconda3\\lib\\site-packages\\monkeylearn\\response.py:97\u001b[0m, in \u001b[0;36mMonkeyLearnResponse.raise_for_status\u001b[1;34m(self, raw_response)\u001b[0m\n\u001b[0;32m     94\u001b[0m     seconds_to_wait \u001b[38;5;241m=\u001b[39m \u001b[38;5;28mint\u001b[39m(body\u001b[38;5;241m.\u001b[39mget(\u001b[38;5;124m'\u001b[39m\u001b[38;5;124mseconds_to_wait\u001b[39m\u001b[38;5;124m'\u001b[39m, \u001b[38;5;241m60\u001b[39m))\n\u001b[0;32m     95\u001b[0m     exception_kwargs[\u001b[38;5;124m'\u001b[39m\u001b[38;5;124mseconds_to_wait\u001b[39m\u001b[38;5;124m'\u001b[39m] \u001b[38;5;241m=\u001b[39m seconds_to_wait\n\u001b[1;32m---> 97\u001b[0m \u001b[38;5;28;01mraise\u001b[39;00m exception_class(\u001b[38;5;241m*\u001b[39m\u001b[38;5;241m*\u001b[39mexception_kwargs)\n",
      "\u001b[1;31mPlanQueryLimitError\u001b[0m: Error PLAN_QUERY_LIMIT: Request Throttled. You do not have enough queries left to perform this action. 54 queries are required, but you have 1 queries remaining."
     ]
    }
   ],
   "source": [
    "# process the tweet via Monkeylearn modelcl_BT7fBUhn \n",
    "ml = MonkeyLearn(monkeylearn_key)\n",
    "\n",
    "#our sentiment analysis model\n",
    "model_id = 'cl_BT7fBUhn'\n",
    "\n",
    "tweet_classification  = []\n",
    "confidence = []\n",
    "\n",
    "# calling the api with passing tweet column data\n",
    "result = ml.classifiers.classify(model_id, df['tweet'].tolist())\n",
    "\n",
    "#Looping thru the api responce to get the classification data.\n",
    "\n",
    "classifications = result.body\n",
    "\n",
    "for i in classifications:\n",
    "    tweet_classification.append( i['classifications'][0])\n",
    "    confidence.append(i['classifications'][1])\n",
    "\n",
    "#Merging the classification tag to dataframe.\n",
    "df['classification']= tweet_classification\n",
    "df['confidence']=confidence\n",
    "\n",
    "df.head()\n",
    "\n",
    "#saving the sentiment data to csv file to be used in plotting or to be used in other notebooks\n",
    "df.to_csv(\"Resources/Processed_Tweets.csv\")"
   ]
  },
  {
   "cell_type": "code",
   "execution_count": 11,
   "id": "b76e9a4e-f39b-4ab8-a1fb-5b88ac647023",
   "metadata": {},
   "outputs": [
    {
     "data": {
      "text/html": [
       "<div>\n",
       "<style scoped>\n",
       "    .dataframe tbody tr th:only-of-type {\n",
       "        vertical-align: middle;\n",
       "    }\n",
       "\n",
       "    .dataframe tbody tr th {\n",
       "        vertical-align: top;\n",
       "    }\n",
       "\n",
       "    .dataframe thead th {\n",
       "        text-align: right;\n",
       "    }\n",
       "</style>\n",
       "<table border=\"1\" class=\"dataframe\">\n",
       "  <thead>\n",
       "    <tr style=\"text-align: right;\">\n",
       "      <th></th>\n",
       "      <th>date</th>\n",
       "      <th>name</th>\n",
       "      <th>tweet</th>\n",
       "      <th>replies_count</th>\n",
       "      <th>retweets_count</th>\n",
       "      <th>likes_count</th>\n",
       "      <th>Classification</th>\n",
       "      <th>Confidence</th>\n",
       "    </tr>\n",
       "    <tr>\n",
       "      <th>id</th>\n",
       "      <th></th>\n",
       "      <th></th>\n",
       "      <th></th>\n",
       "      <th></th>\n",
       "      <th></th>\n",
       "      <th></th>\n",
       "      <th></th>\n",
       "      <th></th>\n",
       "    </tr>\n",
       "  </thead>\n",
       "  <tbody>\n",
       "    <tr>\n",
       "      <th>1</th>\n",
       "      <td>4/2/2021</td>\n",
       "      <td>Elon Musk</td>\n",
       "      <td>Dogecoin is the peopleâs crypto</td>\n",
       "      <td>18465</td>\n",
       "      <td>97994</td>\n",
       "      <td>533684</td>\n",
       "      <td>Positive</td>\n",
       "      <td>0.474</td>\n",
       "    </tr>\n",
       "    <tr>\n",
       "      <th>2</th>\n",
       "      <td>7/2/2021</td>\n",
       "      <td>Elon Musk</td>\n",
       "      <td>@itsALLrisky Itâs the most fun crypto!</td>\n",
       "      <td>807</td>\n",
       "      <td>3537</td>\n",
       "      <td>22013</td>\n",
       "      <td>Positive</td>\n",
       "      <td>0.418</td>\n",
       "    </tr>\n",
       "    <tr>\n",
       "      <th>3</th>\n",
       "      <td>9/2/2021</td>\n",
       "      <td>Elon Musk</td>\n",
       "      <td>@CryptoShrikar @CoinDesk @Tesla @Dan_Z_Palmer ...</td>\n",
       "      <td>240</td>\n",
       "      <td>158</td>\n",
       "      <td>3167</td>\n",
       "      <td>Positive</td>\n",
       "      <td>0.594</td>\n",
       "    </tr>\n",
       "    <tr>\n",
       "      <th>4</th>\n",
       "      <td>10/2/2021</td>\n",
       "      <td>Elon Musk</td>\n",
       "      <td>@freewalletorg Any crypto wallet that wonât ...</td>\n",
       "      <td>2012</td>\n",
       "      <td>4449</td>\n",
       "      <td>28205</td>\n",
       "      <td>Positive</td>\n",
       "      <td>0.508</td>\n",
       "    </tr>\n",
       "    <tr>\n",
       "      <th>5</th>\n",
       "      <td>19/2/2021</td>\n",
       "      <td>Elon Musk</td>\n",
       "      <td>@realfuckingnews @business Somehow, a hash tex...</td>\n",
       "      <td>894</td>\n",
       "      <td>992</td>\n",
       "      <td>8356</td>\n",
       "      <td>Positive</td>\n",
       "      <td>0.431</td>\n",
       "    </tr>\n",
       "  </tbody>\n",
       "</table>\n",
       "</div>"
      ],
      "text/plain": [
       "         date       name                                              tweet  \\\n",
       "id                                                                            \n",
       "1    4/2/2021  Elon Musk                  Dogecoin is the peopleâs crypto   \n",
       "2    7/2/2021  Elon Musk           @itsALLrisky Itâs the most fun crypto!   \n",
       "3    9/2/2021  Elon Musk  @CryptoShrikar @CoinDesk @Tesla @Dan_Z_Palmer ...   \n",
       "4   10/2/2021  Elon Musk  @freewalletorg Any crypto wallet that wonât ...   \n",
       "5   19/2/2021  Elon Musk  @realfuckingnews @business Somehow, a hash tex...   \n",
       "\n",
       "    replies_count  retweets_count  likes_count Classification  Confidence  \n",
       "id                                                                         \n",
       "1           18465           97994       533684       Positive       0.474  \n",
       "2             807            3537        22013       Positive       0.418  \n",
       "3             240             158         3167       Positive       0.594  \n",
       "4            2012            4449        28205       Positive       0.508  \n",
       "5             894             992         8356       Positive       0.431  "
      ]
     },
     "execution_count": 11,
     "metadata": {},
     "output_type": "execute_result"
    }
   ],
   "source": [
    "# since the api call has reached the limit we are using processed sentiment data set \n",
    "tweet_path = \"Resources/Processed_Tweet.csv\"\n",
    "proc_tweet_df = pd.read_csv( tweet_path, index_col=\"id\", infer_datetime_format=True, parse_dates=True)\n",
    "proc_tweet_df.head()"
   ]
  },
  {
   "cell_type": "code",
   "execution_count": 12,
   "id": "004d418a-f4da-40f4-9297-e65aee82f405",
   "metadata": {},
   "outputs": [
    {
     "name": "stderr",
     "output_type": "stream",
     "text": [
      "C:\\Users\\padma\\AppData\\Local\\Temp\\ipykernel_13340\\3642363220.py:11: SettingWithCopyWarning: \n",
      "A value is trying to be set on a copy of a slice from a DataFrame.\n",
      "Try using .loc[row_indexer,col_indexer] = value instead\n",
      "\n",
      "See the caveats in the documentation: https://pandas.pydata.org/pandas-docs/stable/user_guide/indexing.html#returning-a-view-versus-a-copy\n",
      "  negative_df['sentiment_numeric'] = -1\n",
      "C:\\Users\\padma\\AppData\\Local\\Temp\\ipykernel_13340\\3642363220.py:12: SettingWithCopyWarning: \n",
      "A value is trying to be set on a copy of a slice from a DataFrame.\n",
      "Try using .loc[row_indexer,col_indexer] = value instead\n",
      "\n",
      "See the caveats in the documentation: https://pandas.pydata.org/pandas-docs/stable/user_guide/indexing.html#returning-a-view-versus-a-copy\n",
      "  negative_df['negative'] = 1\n",
      "C:\\Users\\padma\\AppData\\Local\\Temp\\ipykernel_13340\\3642363220.py:15: SettingWithCopyWarning: \n",
      "A value is trying to be set on a copy of a slice from a DataFrame.\n",
      "Try using .loc[row_indexer,col_indexer] = value instead\n",
      "\n",
      "See the caveats in the documentation: https://pandas.pydata.org/pandas-docs/stable/user_guide/indexing.html#returning-a-view-versus-a-copy\n",
      "  positive_df['sentiment_numeric'] = 1\n",
      "C:\\Users\\padma\\AppData\\Local\\Temp\\ipykernel_13340\\3642363220.py:16: SettingWithCopyWarning: \n",
      "A value is trying to be set on a copy of a slice from a DataFrame.\n",
      "Try using .loc[row_indexer,col_indexer] = value instead\n",
      "\n",
      "See the caveats in the documentation: https://pandas.pydata.org/pandas-docs/stable/user_guide/indexing.html#returning-a-view-versus-a-copy\n",
      "  positive_df['positive'] = 1\n",
      "C:\\Users\\padma\\AppData\\Local\\Temp\\ipykernel_13340\\3642363220.py:19: SettingWithCopyWarning: \n",
      "A value is trying to be set on a copy of a slice from a DataFrame.\n",
      "Try using .loc[row_indexer,col_indexer] = value instead\n",
      "\n",
      "See the caveats in the documentation: https://pandas.pydata.org/pandas-docs/stable/user_guide/indexing.html#returning-a-view-versus-a-copy\n",
      "  neutral_df['sentiment_numeric'] = 0\n",
      "C:\\Users\\padma\\AppData\\Local\\Temp\\ipykernel_13340\\3642363220.py:20: SettingWithCopyWarning: \n",
      "A value is trying to be set on a copy of a slice from a DataFrame.\n",
      "Try using .loc[row_indexer,col_indexer] = value instead\n",
      "\n",
      "See the caveats in the documentation: https://pandas.pydata.org/pandas-docs/stable/user_guide/indexing.html#returning-a-view-versus-a-copy\n",
      "  neutral_df['neutral'] = 1\n"
     ]
    },
    {
     "data": {
      "text/html": [
       "<div>\n",
       "<style scoped>\n",
       "    .dataframe tbody tr th:only-of-type {\n",
       "        vertical-align: middle;\n",
       "    }\n",
       "\n",
       "    .dataframe tbody tr th {\n",
       "        vertical-align: top;\n",
       "    }\n",
       "\n",
       "    .dataframe thead th {\n",
       "        text-align: right;\n",
       "    }\n",
       "</style>\n",
       "<table border=\"1\" class=\"dataframe\">\n",
       "  <thead>\n",
       "    <tr style=\"text-align: right;\">\n",
       "      <th></th>\n",
       "      <th>name</th>\n",
       "      <th>tweet</th>\n",
       "      <th>replies_count</th>\n",
       "      <th>retweets_count</th>\n",
       "      <th>likes_count</th>\n",
       "      <th>Classification</th>\n",
       "      <th>Confidence</th>\n",
       "      <th>period</th>\n",
       "      <th>sentiment_numeric</th>\n",
       "      <th>negative</th>\n",
       "      <th>positive</th>\n",
       "      <th>neutral</th>\n",
       "    </tr>\n",
       "    <tr>\n",
       "      <th>date</th>\n",
       "      <th></th>\n",
       "      <th></th>\n",
       "      <th></th>\n",
       "      <th></th>\n",
       "      <th></th>\n",
       "      <th></th>\n",
       "      <th></th>\n",
       "      <th></th>\n",
       "      <th></th>\n",
       "      <th></th>\n",
       "      <th></th>\n",
       "      <th></th>\n",
       "    </tr>\n",
       "  </thead>\n",
       "  <tbody>\n",
       "    <tr>\n",
       "      <th>2021-02-04</th>\n",
       "      <td>Elon Musk</td>\n",
       "      <td>Dogecoin is the peopleâs crypto</td>\n",
       "      <td>18465</td>\n",
       "      <td>97994</td>\n",
       "      <td>533684</td>\n",
       "      <td>Positive</td>\n",
       "      <td>0.474</td>\n",
       "      <td>February</td>\n",
       "      <td>1</td>\n",
       "      <td>0.0</td>\n",
       "      <td>1.0</td>\n",
       "      <td>0.0</td>\n",
       "    </tr>\n",
       "    <tr>\n",
       "      <th>2021-02-07</th>\n",
       "      <td>Elon Musk</td>\n",
       "      <td>@itsALLrisky Itâs the most fun crypto!</td>\n",
       "      <td>807</td>\n",
       "      <td>3537</td>\n",
       "      <td>22013</td>\n",
       "      <td>Positive</td>\n",
       "      <td>0.418</td>\n",
       "      <td>February</td>\n",
       "      <td>1</td>\n",
       "      <td>0.0</td>\n",
       "      <td>1.0</td>\n",
       "      <td>0.0</td>\n",
       "    </tr>\n",
       "    <tr>\n",
       "      <th>2021-02-09</th>\n",
       "      <td>Elon Musk</td>\n",
       "      <td>@CryptoShrikar @CoinDesk @Tesla @Dan_Z_Palmer ...</td>\n",
       "      <td>240</td>\n",
       "      <td>158</td>\n",
       "      <td>3167</td>\n",
       "      <td>Positive</td>\n",
       "      <td>0.594</td>\n",
       "      <td>February</td>\n",
       "      <td>1</td>\n",
       "      <td>0.0</td>\n",
       "      <td>1.0</td>\n",
       "      <td>0.0</td>\n",
       "    </tr>\n",
       "    <tr>\n",
       "      <th>2021-02-10</th>\n",
       "      <td>Elon Musk</td>\n",
       "      <td>@freewalletorg Any crypto wallet that wonât ...</td>\n",
       "      <td>2012</td>\n",
       "      <td>4449</td>\n",
       "      <td>28205</td>\n",
       "      <td>Positive</td>\n",
       "      <td>0.508</td>\n",
       "      <td>February</td>\n",
       "      <td>1</td>\n",
       "      <td>0.0</td>\n",
       "      <td>1.0</td>\n",
       "      <td>0.0</td>\n",
       "    </tr>\n",
       "    <tr>\n",
       "      <th>2021-02-19</th>\n",
       "      <td>Elon Musk</td>\n",
       "      <td>@business Teslaâs action is not directly ref...</td>\n",
       "      <td>922</td>\n",
       "      <td>3228</td>\n",
       "      <td>26473</td>\n",
       "      <td>Positive</td>\n",
       "      <td>0.623</td>\n",
       "      <td>February</td>\n",
       "      <td>1</td>\n",
       "      <td>0.0</td>\n",
       "      <td>1.0</td>\n",
       "      <td>0.0</td>\n",
       "    </tr>\n",
       "  </tbody>\n",
       "</table>\n",
       "</div>"
      ],
      "text/plain": [
       "                 name                                              tweet  \\\n",
       "date                                                                       \n",
       "2021-02-04  Elon Musk                  Dogecoin is the peopleâs crypto   \n",
       "2021-02-07  Elon Musk           @itsALLrisky Itâs the most fun crypto!   \n",
       "2021-02-09  Elon Musk  @CryptoShrikar @CoinDesk @Tesla @Dan_Z_Palmer ...   \n",
       "2021-02-10  Elon Musk  @freewalletorg Any crypto wallet that wonât ...   \n",
       "2021-02-19  Elon Musk  @business Teslaâs action is not directly ref...   \n",
       "\n",
       "            replies_count  retweets_count  likes_count Classification  \\\n",
       "date                                                                    \n",
       "2021-02-04          18465           97994       533684       Positive   \n",
       "2021-02-07            807            3537        22013       Positive   \n",
       "2021-02-09            240             158         3167       Positive   \n",
       "2021-02-10           2012            4449        28205       Positive   \n",
       "2021-02-19            922            3228        26473       Positive   \n",
       "\n",
       "            Confidence    period  sentiment_numeric  negative  positive  \\\n",
       "date                                                                      \n",
       "2021-02-04       0.474  February                  1       0.0       1.0   \n",
       "2021-02-07       0.418  February                  1       0.0       1.0   \n",
       "2021-02-09       0.594  February                  1       0.0       1.0   \n",
       "2021-02-10       0.508  February                  1       0.0       1.0   \n",
       "2021-02-19       0.623  February                  1       0.0       1.0   \n",
       "\n",
       "            neutral  \n",
       "date                 \n",
       "2021-02-04      0.0  \n",
       "2021-02-07      0.0  \n",
       "2021-02-09      0.0  \n",
       "2021-02-10      0.0  \n",
       "2021-02-19      0.0  "
      ]
     },
     "execution_count": 12,
     "metadata": {},
     "output_type": "execute_result"
    }
   ],
   "source": [
    "# Drop duplicates based on date and sentiment and keep negative sentitment tweet only\n",
    "\n",
    "proc_tweet_df = proc_tweet_df.sort_values('Classification').drop_duplicates(subset=['date','Classification'], keep='last')\n",
    "\n",
    "proc_tweet_df['date'] = pd.to_datetime(proc_tweet_df['date'],infer_datetime_format=True)\n",
    "proc_tweet_df['period'] = proc_tweet_df['date'].dt.month_name(locale = 'English')\n",
    "proc_tweet_df = proc_tweet_df.set_index('date')\n",
    "\n",
    "# Add more columns to dataframe for each sentiment\n",
    "negative_df = proc_tweet_df.loc[proc_tweet_df['Classification']=='Negative']\n",
    "negative_df['sentiment_numeric'] = -1\n",
    "negative_df['negative'] = 1\n",
    "\n",
    "positive_df = proc_tweet_df.loc[proc_tweet_df['Classification']=='Positive']\n",
    "positive_df['sentiment_numeric'] = 1\n",
    "positive_df['positive'] = 1\n",
    "\n",
    "neutral_df = proc_tweet_df.loc[proc_tweet_df['Classification']=='Neutral']\n",
    "neutral_df['sentiment_numeric'] = 0\n",
    "neutral_df['neutral'] = 1\n",
    "\n",
    "proc_tweet_df = pd.concat([negative_df, positive_df, neutral_df]).sort_values('date')\n",
    "\n",
    "#fill 0 ot NaN values\n",
    "proc_tweet_df = proc_tweet_df.fillna(0).sort_values('date')\n",
    "\n",
    "#store the tweets into csv file for dashboard ploting\n",
    "proc_tweet_df.to_csv(\"Resources/Sentiment_Tweets.csv\")\n",
    "proc_tweet_df.head()"
   ]
  },
  {
   "cell_type": "markdown",
   "id": "46ffe726-8201-4242-bf26-6cfeb6578e96",
   "metadata": {},
   "source": [
    "#### Plot pie chart by sentiment classification "
   ]
  },
  {
   "cell_type": "code",
   "execution_count": 13,
   "id": "558f99ec-0d1d-41ea-9e00-91812ac90665",
   "metadata": {},
   "outputs": [
    {
     "data": {
      "image/png": "[encoded data removed]",
      "text/plain": [
       "<Figure size 432x288 with 1 Axes>"
      ]
     },
     "metadata": {},
     "output_type": "display_data"
    }
   ],
   "source": [
    "pie_plot = proc_tweet_df.groupby('Classification').size().plot.pie( autopct='%1.1f%%',\n",
    "        shadow=True, startangle=90)\n",
    "\n",
    "pie_plot.legend(\n",
    "          title=\"Classification\",\n",
    "          loc=\"center left\",\n",
    "          bbox_to_anchor=(1, 0, 0.5, 1))\n",
    "\n",
    "pie_plot.set_title(\"Overall Crypto Sentiment\")\n",
    "\n",
    "plt.show()"
   ]
  },
  {
   "cell_type": "markdown",
   "id": "e2d775eb-e7d8-4058-af73-884daf7f0e9e",
   "metadata": {},
   "source": [
    "#### Helper methods for plotting "
   ]
  },
  {
   "cell_type": "code",
   "execution_count": 14,
   "id": "e8584331-be8a-4d4f-97a0-da6c2d40e249",
   "metadata": {},
   "outputs": [],
   "source": [
    "def create_line_chart(data, title, xlabel, ylabel, size):\n",
    "    \"\"\"\n",
    "    Create a line chart based in the data argument.\n",
    "    \"\"\"\n",
    "    fig = plt.figure(constrained_layout=True, figsize=(6,5))\n",
    "    linechart = data.plot.line(figsize = size, title=title, legend=True )\n",
    "    linechart.set_xlabel(xlabel)\n",
    "    linechart.set_ylabel(ylabel)\n",
    "    plt.show()\n",
    "    plt.close(fig)\n",
    "\n",
    "# Resuable function for creating bar chart\n",
    "def create_bar_chart(data, title, xlabel, ylabel,  size):\n",
    "    \"\"\"\n",
    "    Create a barplot based in the data argument.\n",
    "    \"\"\"\n",
    "  \n",
    "    fig = plt.figure(constrained_layout=True, figsize=(6,6))\n",
    "    barchart = data.plot.bar(figsize=size, title=title, x=xlabel )\n",
    "    barchart.set_xlabel(xlabel)\n",
    "    barchart.set_ylabel(ylabel)\n",
    "    plt.show()\n",
    "    plt.close(fig)"
   ]
  },
  {
   "cell_type": "markdown",
   "id": "54dd0365-7bcb-469e-9fd4-ab4887f9490a",
   "metadata": {},
   "source": [
    "#### Visualize the tweet activity by date"
   ]
  },
  {
   "cell_type": "code",
   "execution_count": 15,
   "id": "9fd221e6-6d71-4e07-92f2-dc08d8314cae",
   "metadata": {},
   "outputs": [
    {
     "data": {
      "text/plain": [
       "<Figure size 432x432 with 0 Axes>"
      ]
     },
     "metadata": {},
     "output_type": "display_data"
    },
    {
     "data": {
      "image/png": "[encoded data removed]",
      "text/plain": [
       "<Figure size 1440x360 with 1 Axes>"
      ]
     },
     "metadata": {
      "needs_background": "light"
     },
     "output_type": "display_data"
    }
   ],
   "source": [
    "#reseting index to use date column\n",
    "proc_tweet_df = proc_tweet_df.reset_index()\n",
    "\n",
    "create_bar_chart(proc_tweet_df[[\"date\",\"replies_count\",\"retweets_count\",\"likes_count\"]], \"Tweet activity by Date\", 'date', 'retweets_count',  (20,5))"
   ]
  },
  {
   "cell_type": "markdown",
   "id": "262bb87d-08eb-478b-b555-d49a43c5d822",
   "metadata": {},
   "source": [
    "#### Visualize the tweet activity by sentiment"
   ]
  },
  {
   "cell_type": "code",
   "execution_count": 16,
   "id": "973cb462-312d-4159-928a-221ab5ab7596",
   "metadata": {},
   "outputs": [
    {
     "data": {
      "text/plain": [
       "<Figure size 432x432 with 0 Axes>"
      ]
     },
     "metadata": {},
     "output_type": "display_data"
    },
    {
     "data": {
      "image/png": "[encoded data removed]",
      "text/plain": [
       "<Figure size 432x216 with 1 Axes>"
      ]
     },
     "metadata": {
      "needs_background": "light"
     },
     "output_type": "display_data"
    }
   ],
   "source": [
    "# groupby the tweet columns by classification\n",
    "groupby_classification = proc_tweet_df[[\"replies_count\",\"retweets_count\",\"likes_count\"]].groupby(proc_tweet_df.Classification).sum().reset_index()\n",
    "\n",
    "create_bar_chart(groupby_classification, \"Sum of tweet activity per Sentiment\", 'Classification', 'retweets_count',  (6,3))"
   ]
  },
  {
   "cell_type": "markdown",
   "id": "b4eecb54-3bec-4532-b218-02eff1925c98",
   "metadata": {},
   "source": [
    "#### Visualize the sentiment by month"
   ]
  },
  {
   "cell_type": "code",
   "execution_count": 17,
   "id": "5797f88f-5796-47f2-831d-55e1ff88315d",
   "metadata": {},
   "outputs": [
    {
     "data": {
      "text/plain": [
       "<Figure size 432x360 with 0 Axes>"
      ]
     },
     "metadata": {},
     "output_type": "display_data"
    },
    {
     "data": {
      "image/png": "[encoded data removed]",
      "text/plain": [
       "<Figure size 720x360 with 1 Axes>"
      ]
     },
     "metadata": {
      "needs_background": "light"
     },
     "output_type": "display_data"
    }
   ],
   "source": [
    "# aggregate the sentiments by period:month\n",
    "groupby_period = proc_tweet_df[[\"negative\",\"positive\",\"neutral\"]].groupby(proc_tweet_df.period).sum().reset_index()\n",
    "\n",
    "# Sort by month index\n",
    "sort_order = ['January', 'February', 'March', 'April', 'May', 'June', 'July','September', 'October', 'November','December']\n",
    "\n",
    "groupby_period.index = pd.CategoricalIndex(groupby_period['period'], categories=sort_order, ordered =True)\n",
    "groupby_period =groupby_period .sort_index()\n",
    "\n",
    "#Visualize the sentiment by month\n",
    "create_line_chart(groupby_period, \"Sentiment count by Month\", 'Period', 'Tweets',  (10,5))"
   ]
  }
 ],
 "metadata": {
  "kernelspec": {
   "display_name": "Python 3 (ipykernel)",
   "language": "python",
   "name": "python3"
  },
  "language_info": {
   "codemirror_mode": {
    "name": "ipython",
    "version": 3
   },
   "file_extension": ".py",
   "mimetype": "text/x-python",
   "name": "python",
   "nbconvert_exporter": "python",
   "pygments_lexer": "ipython3",
   "version": "3.7.11"
  }
 },
 "nbformat": 4,
 "nbformat_minor": 5
}

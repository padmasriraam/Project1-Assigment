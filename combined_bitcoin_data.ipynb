{
 "cells": [
  {
   "cell_type": "code",
   "execution_count": 1,
   "id": "58d60d53-fc40-4398-bb76-4dbc2f076023",
   "metadata": {},
   "outputs": [
    {
     "ename": "ModuleNotFoundError",
     "evalue": "No module named 'cryptocmd'",
     "output_type": "error",
     "traceback": [
      "\u001b[1;31m---------------------------------------------------------------------------\u001b[0m",
      "\u001b[1;31mModuleNotFoundError\u001b[0m                       Traceback (most recent call last)",
      "\u001b[1;32m~\\AppData\\Local\\Temp/ipykernel_24412/969780095.py\u001b[0m in \u001b[0;36m<module>\u001b[1;34m\u001b[0m\n\u001b[0;32m      4\u001b[0m \u001b[1;32mimport\u001b[0m \u001b[0mpandas\u001b[0m \u001b[1;32mas\u001b[0m \u001b[0mpd\u001b[0m\u001b[1;33m\u001b[0m\u001b[1;33m\u001b[0m\u001b[0m\n\u001b[0;32m      5\u001b[0m \u001b[1;32mfrom\u001b[0m \u001b[0mdotenv\u001b[0m \u001b[1;32mimport\u001b[0m \u001b[0mload_dotenv\u001b[0m\u001b[1;33m\u001b[0m\u001b[1;33m\u001b[0m\u001b[0m\n\u001b[1;32m----> 6\u001b[1;33m \u001b[1;32mfrom\u001b[0m \u001b[0mcryptocmd\u001b[0m \u001b[1;32mimport\u001b[0m \u001b[0mCmcScraper\u001b[0m\u001b[1;33m\u001b[0m\u001b[1;33m\u001b[0m\u001b[0m\n\u001b[0m",
      "\u001b[1;31mModuleNotFoundError\u001b[0m: No module named 'cryptocmd'"
     ]
    }
   ],
   "source": [
    "# Initial imports\n",
    "import os\n",
    "import requests\n",
    "import pandas as pd\n",
    "from dotenv import load_dotenv\n",
    "from cryptocmd import CmcScraper\n"
   ]
  },
  {
   "cell_type": "code",
   "execution_count": null,
   "id": "deb0a4f4-c289-4ae0-907e-f18816906cd1",
   "metadata": {},
   "outputs": [],
   "source": [
    "# initialise scraper from the satarting of 2021 to today\n",
    "scraper = CmcScraper(\"BTC\", \"01-01-2021\", \"31-12-2021\")"
   ]
  },
  {
   "cell_type": "code",
   "execution_count": null,
   "id": "5dc3340a-fe35-4ce2-a989-bbf944bbfc9e",
   "metadata": {},
   "outputs": [],
   "source": [
    "# Pandas dataFrame for the same data and removing unwanted columns\n",
    "btc =  scraper.get_dataframe().drop(columns=['Open','High','Low','Volume','Market Cap'])\n",
    "btc['Date'] = pd.to_datetime(btc['Date']).dt.date\n",
    "btc = btc.round(2)\n",
    "btc"
   ]
  },
  {
   "cell_type": "code",
   "execution_count": null,
   "id": "0ec8fb90-a3c3-4d84-9f8b-c000deb443c7",
   "metadata": {},
   "outputs": [],
   "source": [
    "# Sorting and setting up date as an index\n",
    "btc = btc.sort_index(ascending= False)\n",
    "btc.set_index('Date', inplace= True)\n",
    "btc"
   ]
  },
  {
   "cell_type": "code",
   "execution_count": null,
   "id": "b2fe1546-e71e-4d86-bca3-9d69ff20e414",
   "metadata": {},
   "outputs": [],
   "source": [
    "# Check if any null value is present\n",
    "btc.isnull().sum()"
   ]
  },
  {
   "cell_type": "code",
   "execution_count": null,
   "id": "61c5623d-4174-4242-9d8c-a0794eb531ff",
   "metadata": {},
   "outputs": [],
   "source": [
    "# Calculating dailyReturns\n",
    "btc_dly_ret= btc.pct_change().round(5)\n",
    "btc_dly_ret\n"
   ]
  },
  {
   "cell_type": "code",
   "execution_count": null,
   "id": "1d5f84f2-25af-4717-96a9-4524d9bd0663",
   "metadata": {},
   "outputs": [],
   "source": [
    "# Rename column into daily returns\n",
    "btc_dly_ret = btc_dly_ret.rename(columns={'Close': 'Daily Returns'})\n",
    "btc_dly_ret"
   ]
  },
  {
   "cell_type": "code",
   "execution_count": null,
   "id": "697a2f9e-80f9-42c7-a4b8-f1926e96df6f",
   "metadata": {},
   "outputs": [],
   "source": [
    "#Dropping null values\n",
    "btc_dly_ret.dropna()"
   ]
  },
  {
   "cell_type": "code",
   "execution_count": null,
   "id": "184231ab-f9f7-4791-8f5d-7aa93383ae92",
   "metadata": {},
   "outputs": [],
   "source": [
    "#Plotting daily returns \n",
    "btc_dly_ret.plot(figsize = (20,10))"
   ]
  },
  {
   "cell_type": "code",
   "execution_count": null,
   "id": "bc44714f-41b7-42b8-aba8-2e8c8f960277",
   "metadata": {},
   "outputs": [],
   "source": [
    "# Monthly average change in prices\n",
    "MA_btc_daily_ret = btc_dly_ret.rolling(window = 30).mean()\n",
    "\n",
    "MA_btc_daily_ret.plot(figsize = (20,10), title = '30 day Rolling Average')"
   ]
  },
  {
   "cell_type": "code",
   "execution_count": null,
   "id": "53bfef46-b509-4e9d-b7e4-a6ad2e29298b",
   "metadata": {},
   "outputs": [],
   "source": [
    "# Plotting bitcoin prices within the period\n",
    "btc.plot(figsize = (20,10))"
   ]
  },
  {
   "cell_type": "code",
   "execution_count": null,
   "id": "8a70faf5-a912-4d4f-b0bf-55552e279c85",
   "metadata": {},
   "outputs": [],
   "source": [
    "# Plotting dailyreturns in bar diagram\n",
    "btc_dly_ret.hist(figsize=(20,10))"
   ]
  },
  {
   "cell_type": "code",
   "execution_count": null,
   "id": "d58fea8b-4086-4d44-84cb-b19740965acd",
   "metadata": {},
   "outputs": [],
   "source": [
    "# Concatenate closing prices and daily returns\n",
    "combined_btc_data = pd.concat([btc,btc_dly_ret], axis= 'columns', join= \"inner\")\n",
    "combined_btc_data.dropna(inplace= True)"
   ]
  },
  {
   "cell_type": "code",
   "execution_count": null,
   "id": "79b85a64-92e1-489e-bb9c-e18f77f55004",
   "metadata": {},
   "outputs": [],
   "source": [
    "# Saving into a csv file\n",
    "combined_btc_data.to_csv('combined_bitcoin_data.csv')"
   ]
  }
 ],
 "metadata": {
  "kernelspec": {
   "display_name": "Python 3 (ipykernel)",
   "language": "python",
   "name": "python3"
  },
  "language_info": {
   "codemirror_mode": {
    "name": "ipython",
    "version": 3
   },
   "file_extension": ".py",
   "mimetype": "text/x-python",
   "name": "python",
   "nbconvert_exporter": "python",
   "pygments_lexer": "ipython3",
   "version": "3.7.11"
  }
 },
 "nbformat": 4,
 "nbformat_minor": 5
}

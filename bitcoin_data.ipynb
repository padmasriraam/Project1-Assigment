{
 "cells": [
  {
   "cell_type": "markdown",
   "id": "bfedf80e-89d4-4e79-b89b-a3211edcb483",
   "metadata": {},
   "source": [
    "# Bitcoin Data\n",
    "\n",
    "In this file we are getting bitcoin data for the year 2021, calulating daily returns and visualizing the data."
   ]
  },
  {
   "cell_type": "markdown",
   "id": "e7a404a3-f03a-4357-afef-42068d3de14e",
   "metadata": {},
   "source": [
    "### Import libraries and dependecies"
   ]
  },
  {
   "cell_type": "code",
   "execution_count": 61,
   "id": "58d60d53-fc40-4398-bb76-4dbc2f076023",
   "metadata": {},
   "outputs": [],
   "source": [
    "# Initial imports\n",
    "import pandas as pd\n",
    "import hvplot.pandas\n",
    "from cryptocmd import CmcScraper\n"
   ]
  },
  {
   "cell_type": "markdown",
   "id": "d07dc3cd-3707-4df2-8db8-b53ab2381ee7",
   "metadata": {},
   "source": [
    "### Getting bitcoin data using CmScrapper"
   ]
  },
  {
   "cell_type": "code",
   "execution_count": 62,
   "id": "deb0a4f4-c289-4ae0-907e-f18816906cd1",
   "metadata": {},
   "outputs": [],
   "source": [
    "# initialise scraper from the satarting of 2021 to today\n",
    "scraper = CmcScraper(\"BTC\", \"01-01-2021\", \"31-12-2021\")"
   ]
  },
  {
   "cell_type": "markdown",
   "id": "e072c952-b59b-43cf-9676-b3165050ad32",
   "metadata": {},
   "source": [
    "### Read the data in the dataframe"
   ]
  },
  {
   "cell_type": "code",
   "execution_count": 82,
   "id": "5dc3340a-fe35-4ce2-a989-bbf944bbfc9e",
   "metadata": {},
   "outputs": [
    {
     "data": {
      "text/html": [
       "<div>\n",
       "<style scoped>\n",
       "    .dataframe tbody tr th:only-of-type {\n",
       "        vertical-align: middle;\n",
       "    }\n",
       "\n",
       "    .dataframe tbody tr th {\n",
       "        vertical-align: top;\n",
       "    }\n",
       "\n",
       "    .dataframe thead th {\n",
       "        text-align: right;\n",
       "    }\n",
       "</style>\n",
       "<table border=\"1\" class=\"dataframe\">\n",
       "  <thead>\n",
       "    <tr style=\"text-align: right;\">\n",
       "      <th></th>\n",
       "      <th>Date</th>\n",
       "      <th>Close</th>\n",
       "    </tr>\n",
       "  </thead>\n",
       "  <tbody>\n",
       "    <tr>\n",
       "      <th>0</th>\n",
       "      <td>2021-12-31</td>\n",
       "      <td>46306.45</td>\n",
       "    </tr>\n",
       "    <tr>\n",
       "      <th>1</th>\n",
       "      <td>2021-12-30</td>\n",
       "      <td>47178.13</td>\n",
       "    </tr>\n",
       "    <tr>\n",
       "      <th>2</th>\n",
       "      <td>2021-12-29</td>\n",
       "      <td>46444.71</td>\n",
       "    </tr>\n",
       "    <tr>\n",
       "      <th>3</th>\n",
       "      <td>2021-12-28</td>\n",
       "      <td>47588.85</td>\n",
       "    </tr>\n",
       "    <tr>\n",
       "      <th>4</th>\n",
       "      <td>2021-12-27</td>\n",
       "      <td>50640.42</td>\n",
       "    </tr>\n",
       "  </tbody>\n",
       "</table>\n",
       "</div>"
      ],
      "text/plain": [
       "         Date     Close\n",
       "0  2021-12-31  46306.45\n",
       "1  2021-12-30  47178.13\n",
       "2  2021-12-29  46444.71\n",
       "3  2021-12-28  47588.85\n",
       "4  2021-12-27  50640.42"
      ]
     },
     "execution_count": 82,
     "metadata": {},
     "output_type": "execute_result"
    }
   ],
   "source": [
    "# Pandas dataFrame for the same data and removing unwanted columns\n",
    "btc =  scraper.get_dataframe().drop(columns=['Open','High','Low','Volume','Market Cap'])\n",
    "btc['Date'] = pd.to_datetime(btc['Date']).dt.date\n",
    "btc = btc.round(2)\n",
    "btc.head()"
   ]
  },
  {
   "cell_type": "markdown",
   "id": "ff967379-58c7-463f-80b6-18a32b7cdc37",
   "metadata": {},
   "source": [
    "### Setting date as an index"
   ]
  },
  {
   "cell_type": "code",
   "execution_count": 83,
   "id": "0ec8fb90-a3c3-4d84-9f8b-c000deb443c7",
   "metadata": {},
   "outputs": [
    {
     "data": {
      "text/html": [
       "<div>\n",
       "<style scoped>\n",
       "    .dataframe tbody tr th:only-of-type {\n",
       "        vertical-align: middle;\n",
       "    }\n",
       "\n",
       "    .dataframe tbody tr th {\n",
       "        vertical-align: top;\n",
       "    }\n",
       "\n",
       "    .dataframe thead th {\n",
       "        text-align: right;\n",
       "    }\n",
       "</style>\n",
       "<table border=\"1\" class=\"dataframe\">\n",
       "  <thead>\n",
       "    <tr style=\"text-align: right;\">\n",
       "      <th></th>\n",
       "      <th>Close</th>\n",
       "    </tr>\n",
       "    <tr>\n",
       "      <th>Date</th>\n",
       "      <th></th>\n",
       "    </tr>\n",
       "  </thead>\n",
       "  <tbody>\n",
       "    <tr>\n",
       "      <th>2021-01-01</th>\n",
       "      <td>29374.15</td>\n",
       "    </tr>\n",
       "    <tr>\n",
       "      <th>2021-01-02</th>\n",
       "      <td>32127.27</td>\n",
       "    </tr>\n",
       "    <tr>\n",
       "      <th>2021-01-03</th>\n",
       "      <td>32782.02</td>\n",
       "    </tr>\n",
       "    <tr>\n",
       "      <th>2021-01-04</th>\n",
       "      <td>31971.91</td>\n",
       "    </tr>\n",
       "    <tr>\n",
       "      <th>2021-01-05</th>\n",
       "      <td>33992.43</td>\n",
       "    </tr>\n",
       "  </tbody>\n",
       "</table>\n",
       "</div>"
      ],
      "text/plain": [
       "               Close\n",
       "Date                \n",
       "2021-01-01  29374.15\n",
       "2021-01-02  32127.27\n",
       "2021-01-03  32782.02\n",
       "2021-01-04  31971.91\n",
       "2021-01-05  33992.43"
      ]
     },
     "execution_count": 83,
     "metadata": {},
     "output_type": "execute_result"
    }
   ],
   "source": [
    "# Sorting and setting up date as an index\n",
    "btc = btc.sort_index(ascending= False)\n",
    "btc.set_index('Date', inplace= True)\n",
    "btc.head()"
   ]
  },
  {
   "cell_type": "markdown",
   "id": "4db9c517-8a17-4fd2-b1ab-b07bff35179c",
   "metadata": {},
   "source": [
    "### Assess data quality by determining the number of nulls"
   ]
  },
  {
   "cell_type": "code",
   "execution_count": 65,
   "id": "b2fe1546-e71e-4d86-bca3-9d69ff20e414",
   "metadata": {},
   "outputs": [
    {
     "data": {
      "text/plain": [
       "Close    0\n",
       "dtype: int64"
      ]
     },
     "execution_count": 65,
     "metadata": {},
     "output_type": "execute_result"
    }
   ],
   "source": [
    "# Check if any null value is present\n",
    "btc.isnull().sum()"
   ]
  },
  {
   "cell_type": "markdown",
   "id": "33c2944e-65f4-46d8-a2a8-5c718f49ae95",
   "metadata": {},
   "source": [
    "### Calculate Daily Returns"
   ]
  },
  {
   "cell_type": "code",
   "execution_count": 66,
   "id": "61c5623d-4174-4242-9d8c-a0794eb531ff",
   "metadata": {},
   "outputs": [
    {
     "data": {
      "text/html": [
       "<div>\n",
       "<style scoped>\n",
       "    .dataframe tbody tr th:only-of-type {\n",
       "        vertical-align: middle;\n",
       "    }\n",
       "\n",
       "    .dataframe tbody tr th {\n",
       "        vertical-align: top;\n",
       "    }\n",
       "\n",
       "    .dataframe thead th {\n",
       "        text-align: right;\n",
       "    }\n",
       "</style>\n",
       "<table border=\"1\" class=\"dataframe\">\n",
       "  <thead>\n",
       "    <tr style=\"text-align: right;\">\n",
       "      <th></th>\n",
       "      <th>Close</th>\n",
       "    </tr>\n",
       "    <tr>\n",
       "      <th>Date</th>\n",
       "      <th></th>\n",
       "    </tr>\n",
       "  </thead>\n",
       "  <tbody>\n",
       "    <tr>\n",
       "      <th>2021-01-01</th>\n",
       "      <td>NaN</td>\n",
       "    </tr>\n",
       "    <tr>\n",
       "      <th>2021-01-02</th>\n",
       "      <td>0.09373</td>\n",
       "    </tr>\n",
       "    <tr>\n",
       "      <th>2021-01-03</th>\n",
       "      <td>0.02038</td>\n",
       "    </tr>\n",
       "    <tr>\n",
       "      <th>2021-01-04</th>\n",
       "      <td>-0.02471</td>\n",
       "    </tr>\n",
       "    <tr>\n",
       "      <th>2021-01-05</th>\n",
       "      <td>0.06320</td>\n",
       "    </tr>\n",
       "    <tr>\n",
       "      <th>...</th>\n",
       "      <td>...</td>\n",
       "    </tr>\n",
       "    <tr>\n",
       "      <th>2021-12-27</th>\n",
       "      <td>-0.00333</td>\n",
       "    </tr>\n",
       "    <tr>\n",
       "      <th>2021-12-28</th>\n",
       "      <td>-0.06026</td>\n",
       "    </tr>\n",
       "    <tr>\n",
       "      <th>2021-12-29</th>\n",
       "      <td>-0.02404</td>\n",
       "    </tr>\n",
       "    <tr>\n",
       "      <th>2021-12-30</th>\n",
       "      <td>0.01579</td>\n",
       "    </tr>\n",
       "    <tr>\n",
       "      <th>2021-12-31</th>\n",
       "      <td>-0.01848</td>\n",
       "    </tr>\n",
       "  </tbody>\n",
       "</table>\n",
       "<p>365 rows × 1 columns</p>\n",
       "</div>"
      ],
      "text/plain": [
       "              Close\n",
       "Date               \n",
       "2021-01-01      NaN\n",
       "2021-01-02  0.09373\n",
       "2021-01-03  0.02038\n",
       "2021-01-04 -0.02471\n",
       "2021-01-05  0.06320\n",
       "...             ...\n",
       "2021-12-27 -0.00333\n",
       "2021-12-28 -0.06026\n",
       "2021-12-29 -0.02404\n",
       "2021-12-30  0.01579\n",
       "2021-12-31 -0.01848\n",
       "\n",
       "[365 rows x 1 columns]"
      ]
     },
     "execution_count": 66,
     "metadata": {},
     "output_type": "execute_result"
    }
   ],
   "source": [
    "# Calculating dailyReturns\n",
    "btc_dly_ret= btc.pct_change().round(5)\n",
    "btc_dly_ret\n"
   ]
  },
  {
   "cell_type": "code",
   "execution_count": 67,
   "id": "1d5f84f2-25af-4717-96a9-4524d9bd0663",
   "metadata": {},
   "outputs": [
    {
     "data": {
      "text/html": [
       "<div>\n",
       "<style scoped>\n",
       "    .dataframe tbody tr th:only-of-type {\n",
       "        vertical-align: middle;\n",
       "    }\n",
       "\n",
       "    .dataframe tbody tr th {\n",
       "        vertical-align: top;\n",
       "    }\n",
       "\n",
       "    .dataframe thead th {\n",
       "        text-align: right;\n",
       "    }\n",
       "</style>\n",
       "<table border=\"1\" class=\"dataframe\">\n",
       "  <thead>\n",
       "    <tr style=\"text-align: right;\">\n",
       "      <th></th>\n",
       "      <th>Daily Returns</th>\n",
       "    </tr>\n",
       "    <tr>\n",
       "      <th>Date</th>\n",
       "      <th></th>\n",
       "    </tr>\n",
       "  </thead>\n",
       "  <tbody>\n",
       "    <tr>\n",
       "      <th>2021-01-01</th>\n",
       "      <td>NaN</td>\n",
       "    </tr>\n",
       "    <tr>\n",
       "      <th>2021-01-02</th>\n",
       "      <td>0.09373</td>\n",
       "    </tr>\n",
       "    <tr>\n",
       "      <th>2021-01-03</th>\n",
       "      <td>0.02038</td>\n",
       "    </tr>\n",
       "    <tr>\n",
       "      <th>2021-01-04</th>\n",
       "      <td>-0.02471</td>\n",
       "    </tr>\n",
       "    <tr>\n",
       "      <th>2021-01-05</th>\n",
       "      <td>0.06320</td>\n",
       "    </tr>\n",
       "    <tr>\n",
       "      <th>...</th>\n",
       "      <td>...</td>\n",
       "    </tr>\n",
       "    <tr>\n",
       "      <th>2021-12-27</th>\n",
       "      <td>-0.00333</td>\n",
       "    </tr>\n",
       "    <tr>\n",
       "      <th>2021-12-28</th>\n",
       "      <td>-0.06026</td>\n",
       "    </tr>\n",
       "    <tr>\n",
       "      <th>2021-12-29</th>\n",
       "      <td>-0.02404</td>\n",
       "    </tr>\n",
       "    <tr>\n",
       "      <th>2021-12-30</th>\n",
       "      <td>0.01579</td>\n",
       "    </tr>\n",
       "    <tr>\n",
       "      <th>2021-12-31</th>\n",
       "      <td>-0.01848</td>\n",
       "    </tr>\n",
       "  </tbody>\n",
       "</table>\n",
       "<p>365 rows × 1 columns</p>\n",
       "</div>"
      ],
      "text/plain": [
       "            Daily Returns\n",
       "Date                     \n",
       "2021-01-01            NaN\n",
       "2021-01-02        0.09373\n",
       "2021-01-03        0.02038\n",
       "2021-01-04       -0.02471\n",
       "2021-01-05        0.06320\n",
       "...                   ...\n",
       "2021-12-27       -0.00333\n",
       "2021-12-28       -0.06026\n",
       "2021-12-29       -0.02404\n",
       "2021-12-30        0.01579\n",
       "2021-12-31       -0.01848\n",
       "\n",
       "[365 rows x 1 columns]"
      ]
     },
     "execution_count": 67,
     "metadata": {},
     "output_type": "execute_result"
    }
   ],
   "source": [
    "# Rename column into daily returns\n",
    "btc_dly_ret = btc_dly_ret.rename(columns={'Close': 'Daily Returns'})\n",
    "btc_dly_ret"
   ]
  },
  {
   "cell_type": "markdown",
   "id": "108fbbf1-4fa7-4c66-a575-eabc84259e8c",
   "metadata": {},
   "source": [
    "### Dropping nulls "
   ]
  },
  {
   "cell_type": "code",
   "execution_count": 68,
   "id": "697a2f9e-80f9-42c7-a4b8-f1926e96df6f",
   "metadata": {},
   "outputs": [
    {
     "data": {
      "text/html": [
       "<div>\n",
       "<style scoped>\n",
       "    .dataframe tbody tr th:only-of-type {\n",
       "        vertical-align: middle;\n",
       "    }\n",
       "\n",
       "    .dataframe tbody tr th {\n",
       "        vertical-align: top;\n",
       "    }\n",
       "\n",
       "    .dataframe thead th {\n",
       "        text-align: right;\n",
       "    }\n",
       "</style>\n",
       "<table border=\"1\" class=\"dataframe\">\n",
       "  <thead>\n",
       "    <tr style=\"text-align: right;\">\n",
       "      <th></th>\n",
       "      <th>Daily Returns</th>\n",
       "    </tr>\n",
       "    <tr>\n",
       "      <th>Date</th>\n",
       "      <th></th>\n",
       "    </tr>\n",
       "  </thead>\n",
       "  <tbody>\n",
       "    <tr>\n",
       "      <th>2021-01-02</th>\n",
       "      <td>0.09373</td>\n",
       "    </tr>\n",
       "    <tr>\n",
       "      <th>2021-01-03</th>\n",
       "      <td>0.02038</td>\n",
       "    </tr>\n",
       "    <tr>\n",
       "      <th>2021-01-04</th>\n",
       "      <td>-0.02471</td>\n",
       "    </tr>\n",
       "    <tr>\n",
       "      <th>2021-01-05</th>\n",
       "      <td>0.06320</td>\n",
       "    </tr>\n",
       "    <tr>\n",
       "      <th>2021-01-06</th>\n",
       "      <td>0.08331</td>\n",
       "    </tr>\n",
       "    <tr>\n",
       "      <th>...</th>\n",
       "      <td>...</td>\n",
       "    </tr>\n",
       "    <tr>\n",
       "      <th>2021-12-27</th>\n",
       "      <td>-0.00333</td>\n",
       "    </tr>\n",
       "    <tr>\n",
       "      <th>2021-12-28</th>\n",
       "      <td>-0.06026</td>\n",
       "    </tr>\n",
       "    <tr>\n",
       "      <th>2021-12-29</th>\n",
       "      <td>-0.02404</td>\n",
       "    </tr>\n",
       "    <tr>\n",
       "      <th>2021-12-30</th>\n",
       "      <td>0.01579</td>\n",
       "    </tr>\n",
       "    <tr>\n",
       "      <th>2021-12-31</th>\n",
       "      <td>-0.01848</td>\n",
       "    </tr>\n",
       "  </tbody>\n",
       "</table>\n",
       "<p>364 rows × 1 columns</p>\n",
       "</div>"
      ],
      "text/plain": [
       "            Daily Returns\n",
       "Date                     \n",
       "2021-01-02        0.09373\n",
       "2021-01-03        0.02038\n",
       "2021-01-04       -0.02471\n",
       "2021-01-05        0.06320\n",
       "2021-01-06        0.08331\n",
       "...                   ...\n",
       "2021-12-27       -0.00333\n",
       "2021-12-28       -0.06026\n",
       "2021-12-29       -0.02404\n",
       "2021-12-30        0.01579\n",
       "2021-12-31       -0.01848\n",
       "\n",
       "[364 rows x 1 columns]"
      ]
     },
     "execution_count": 68,
     "metadata": {},
     "output_type": "execute_result"
    }
   ],
   "source": [
    "#Dropping null values\n",
    "btc_dly_ret.dropna()"
   ]
  },
  {
   "cell_type": "markdown",
   "id": "aa895c57-a59b-4c42-9c67-0ed69f2aa1ab",
   "metadata": {},
   "source": [
    "### Plot Daily Returns"
   ]
  },
  {
   "cell_type": "code",
   "execution_count": 69,
   "id": "184231ab-f9f7-4791-8f5d-7aa93383ae92",
   "metadata": {},
   "outputs": [
    {
     "data": {},
     "metadata": {},
     "output_type": "display_data"
    },
    {
     "data": {
      "application/vnd.holoviews_exec.v0+json": "",
      "text/html": [
       "<div id='3376'>\n",
       "\n",
       "\n",
       "\n",
       "\n",
       "\n",
       "  <div class=\"bk-root\" id=\"f9e2fafc-806e-47c6-83c9-2b2508359d37\" data-root-id=\"3376\"></div>\n",
       "</div>\n",
       "<script type=\"application/javascript\">(function(root) {\n",
       "  function embed_document(root) {\n",
       "    var docs_json = {\"c8b86c49-8c8a-414b-a448-7b8df9c45998\":{\"defs\":[{\"extends\":null,\"module\":null,\"name\":\"ReactiveHTML1\",\"overrides\":[],\"properties\":[]},{\"extends\":null,\"module\":null,\"name\":\"FlexBox1\",\"overrides\":[],\"properties\":[{\"default\":\"flex-start\",\"kind\":null,\"name\":\"align_content\"},{\"default\":\"flex-start\",\"kind\":null,\"name\":\"align_items\"},{\"default\":\"row\",\"kind\":null,\"name\":\"flex_direction\"},{\"default\":\"wrap\",\"kind\":null,\"name\":\"flex_wrap\"},{\"default\":\"flex-start\",\"kind\":null,\"name\":\"justify_content\"}]},{\"extends\":null,\"module\":null,\"name\":\"GridStack1\",\"overrides\":[],\"properties\":[{\"default\":\"warn\",\"kind\":null,\"name\":\"mode\"},{\"default\":null,\"kind\":null,\"name\":\"ncols\"},{\"default\":null,\"kind\":null,\"name\":\"nrows\"},{\"default\":true,\"kind\":null,\"name\":\"allow_resize\"},{\"default\":true,\"kind\":null,\"name\":\"allow_drag\"},{\"default\":[],\"kind\":null,\"name\":\"state\"}]},{\"extends\":null,\"module\":null,\"name\":\"click1\",\"overrides\":[],\"properties\":[{\"default\":\"\",\"kind\":null,\"name\":\"terminal_output\"},{\"default\":\"\",\"kind\":null,\"name\":\"debug_name\"},{\"default\":0,\"kind\":null,\"name\":\"clears\"}]},{\"extends\":null,\"module\":null,\"name\":\"TemplateActions1\",\"overrides\":[],\"properties\":[{\"default\":0,\"kind\":null,\"name\":\"open_modal\"},{\"default\":0,\"kind\":null,\"name\":\"close_modal\"}]},{\"extends\":null,\"module\":null,\"name\":\"MaterialTemplateActions1\",\"overrides\":[],\"properties\":[{\"default\":0,\"kind\":null,\"name\":\"open_modal\"},{\"default\":0,\"kind\":null,\"name\":\"close_modal\"}]}],\"roots\":{\"references\":[{\"attributes\":{\"callback\":null,\"formatters\":{\"@{Date}\":\"datetime\"},\"renderers\":[{\"id\":\"3417\"}],\"tags\":[\"hv_created\"],\"tooltips\":[[\"Date\",\"@{Date}{%F %T}\"],[\"Daily Returns\",\"@{Daily_Returns}\"]]},\"id\":\"3380\",\"type\":\"HoverTool\"},{\"attributes\":{\"margin\":[5,5,5,5],\"name\":\"HSpacer03946\",\"sizing_mode\":\"stretch_width\"},\"id\":\"3377\",\"type\":\"Spacer\"},{\"attributes\":{},\"id\":\"3386\",\"type\":\"LinearScale\"},{\"attributes\":{\"axis\":{\"id\":\"3390\"},\"coordinates\":null,\"grid_line_color\":null,\"group\":null,\"ticker\":null},\"id\":\"3393\",\"type\":\"Grid\"},{\"attributes\":{\"children\":[{\"id\":\"3377\"},{\"id\":\"3381\"},{\"id\":\"3470\"}],\"margin\":[0,0,0,0],\"name\":\"Row03942\",\"tags\":[\"embedded\"]},\"id\":\"3376\",\"type\":\"Row\"},{\"attributes\":{\"data\":{\"Daily Returns\":{\"__ndarray__\":\"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\",\"dtype\":\"float64\",\"order\":\"little\",\"shape\":[365]},\"Daily_Returns\":{\"__ndarray__\":\"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\",\"dtype\":\"float64\",\"order\":\"little\",\"shape\":[365]},\"Date\":{\"__ndarray__\":\"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\",\"dtype\":\"float64\",\"order\":\"little\",\"shape\":[365]}},\"selected\":{\"id\":\"3412\"},\"selection_policy\":{\"id\":\"3433\"}},\"id\":\"3411\",\"type\":\"ColumnDataSource\"},{\"attributes\":{},\"id\":\"3388\",\"type\":\"LinearScale\"},{\"attributes\":{\"line_alpha\":0.1,\"line_color\":\"#30a2da\",\"line_width\":2,\"x\":{\"field\":\"Date\"},\"y\":{\"field\":\"Daily Returns\"}},\"id\":\"3415\",\"type\":\"Line\"},{\"attributes\":{\"bottom_units\":\"screen\",\"coordinates\":null,\"fill_alpha\":0.5,\"fill_color\":\"lightgrey\",\"group\":null,\"left_units\":\"screen\",\"level\":\"overlay\",\"line_alpha\":1.0,\"line_color\":\"black\",\"line_dash\":[4,4],\"line_width\":2,\"right_units\":\"screen\",\"syncable\":false,\"top_units\":\"screen\"},\"id\":\"3403\",\"type\":\"BoxAnnotation\"},{\"attributes\":{},\"id\":\"3424\",\"type\":\"BasicTickFormatter\"},{\"attributes\":{\"end\":0.219972,\"reset_end\":0.219972,\"reset_start\":-0.170172,\"start\":-0.170172,\"tags\":[[[\"Daily Returns\",\"Daily Returns\",null]]]},\"id\":\"3379\",\"type\":\"Range1d\"},{\"attributes\":{},\"id\":\"3425\",\"type\":\"AllLabels\"},{\"attributes\":{\"below\":[{\"id\":\"3390\"}],\"center\":[{\"id\":\"3393\"},{\"id\":\"3397\"}],\"height\":300,\"left\":[{\"id\":\"3394\"}],\"margin\":[5,5,5,5],\"min_border_bottom\":10,\"min_border_left\":10,\"min_border_right\":10,\"min_border_top\":10,\"renderers\":[{\"id\":\"3417\"}],\"sizing_mode\":\"fixed\",\"title\":{\"id\":\"3382\"},\"toolbar\":{\"id\":\"3404\"},\"width\":700,\"x_range\":{\"id\":\"3378\"},\"x_scale\":{\"id\":\"3386\"},\"y_range\":{\"id\":\"3379\"},\"y_scale\":{\"id\":\"3388\"}},\"id\":\"3381\",\"subtype\":\"Figure\",\"type\":\"Plot\"},{\"attributes\":{\"axis_label\":\"Date\",\"coordinates\":null,\"formatter\":{\"id\":\"3421\"},\"group\":null,\"major_label_policy\":{\"id\":\"3422\"},\"ticker\":{\"id\":\"3391\"}},\"id\":\"3390\",\"type\":\"DatetimeAxis\"},{\"attributes\":{\"coordinates\":null,\"group\":null,\"text\":\"Daily returns of bitcoin closing prices (2021)\",\"text_color\":\"black\",\"text_font_size\":\"12pt\"},\"id\":\"3382\",\"type\":\"Title\"},{\"attributes\":{\"num_minor_ticks\":5,\"tickers\":[{\"id\":\"3436\"},{\"id\":\"3437\"},{\"id\":\"3438\"},{\"id\":\"3439\"},{\"id\":\"3440\"},{\"id\":\"3441\"},{\"id\":\"3442\"},{\"id\":\"3443\"},{\"id\":\"3444\"},{\"id\":\"3445\"},{\"id\":\"3446\"},{\"id\":\"3447\"}]},\"id\":\"3391\",\"type\":\"DatetimeTicker\"},{\"attributes\":{\"axis_label\":\"Daily Returns\",\"coordinates\":null,\"formatter\":{\"id\":\"3424\"},\"group\":null,\"major_label_policy\":{\"id\":\"3425\"},\"ticker\":{\"id\":\"3395\"}},\"id\":\"3394\",\"type\":\"LinearAxis\"},{\"attributes\":{\"mantissas\":[1,2,5],\"max_interval\":500.0,\"num_minor_ticks\":0},\"id\":\"3436\",\"type\":\"AdaptiveTicker\"},{\"attributes\":{\"axis\":{\"id\":\"3394\"},\"coordinates\":null,\"dimension\":1,\"grid_line_color\":null,\"group\":null,\"ticker\":null},\"id\":\"3397\",\"type\":\"Grid\"},{\"attributes\":{\"tools\":[{\"id\":\"3380\"},{\"id\":\"3398\"},{\"id\":\"3399\"},{\"id\":\"3400\"},{\"id\":\"3401\"},{\"id\":\"3402\"}]},\"id\":\"3404\",\"type\":\"Toolbar\"},{\"attributes\":{},\"id\":\"3412\",\"type\":\"Selection\"},{\"attributes\":{},\"id\":\"3399\",\"type\":\"PanTool\"},{\"attributes\":{\"source\":{\"id\":\"3411\"}},\"id\":\"3418\",\"type\":\"CDSView\"},{\"attributes\":{\"margin\":[5,5,5,5],\"name\":\"HSpacer03947\",\"sizing_mode\":\"stretch_width\"},\"id\":\"3470\",\"type\":\"Spacer\"},{\"attributes\":{\"base\":60,\"mantissas\":[1,2,5,10,15,20,30],\"max_interval\":1800000.0,\"min_interval\":1000.0,\"num_minor_ticks\":0},\"id\":\"3437\",\"type\":\"AdaptiveTicker\"},{\"attributes\":{\"base\":24,\"mantissas\":[1,2,4,6,8,12],\"max_interval\":43200000.0,\"min_interval\":3600000.0,\"num_minor_ticks\":0},\"id\":\"3438\",\"type\":\"AdaptiveTicker\"},{\"attributes\":{},\"id\":\"3421\",\"type\":\"DatetimeTickFormatter\"},{\"attributes\":{},\"id\":\"3395\",\"type\":\"BasicTicker\"},{\"attributes\":{},\"id\":\"3447\",\"type\":\"YearsTicker\"},{\"attributes\":{\"months\":[0,1,2,3,4,5,6,7,8,9,10,11]},\"id\":\"3443\",\"type\":\"MonthsTicker\"},{\"attributes\":{},\"id\":\"3400\",\"type\":\"WheelZoomTool\"},{\"attributes\":{\"line_alpha\":0.2,\"line_color\":\"#30a2da\",\"line_width\":2,\"x\":{\"field\":\"Date\"},\"y\":{\"field\":\"Daily Returns\"}},\"id\":\"3416\",\"type\":\"Line\"},{\"attributes\":{\"days\":[1,15]},\"id\":\"3442\",\"type\":\"DaysTicker\"},{\"attributes\":{\"line_color\":\"#30a2da\",\"line_width\":2,\"x\":{\"field\":\"Date\"},\"y\":{\"field\":\"Daily Returns\"}},\"id\":\"3414\",\"type\":\"Line\"},{\"attributes\":{},\"id\":\"3398\",\"type\":\"SaveTool\"},{\"attributes\":{\"days\":[1,2,3,4,5,6,7,8,9,10,11,12,13,14,15,16,17,18,19,20,21,22,23,24,25,26,27,28,29,30,31]},\"id\":\"3439\",\"type\":\"DaysTicker\"},{\"attributes\":{\"days\":[1,4,7,10,13,16,19,22,25,28]},\"id\":\"3440\",\"type\":\"DaysTicker\"},{\"attributes\":{\"end\":1640908800000.0,\"reset_end\":1640908800000.0,\"reset_start\":1609459200000.0,\"start\":1609459200000.0,\"tags\":[[[\"Date\",\"Date\",null]]]},\"id\":\"3378\",\"type\":\"Range1d\"},{\"attributes\":{\"overlay\":{\"id\":\"3403\"}},\"id\":\"3401\",\"type\":\"BoxZoomTool\"},{\"attributes\":{\"days\":[1,8,15,22]},\"id\":\"3441\",\"type\":\"DaysTicker\"},{\"attributes\":{\"months\":[0,6]},\"id\":\"3446\",\"type\":\"MonthsTicker\"},{\"attributes\":{},\"id\":\"3402\",\"type\":\"ResetTool\"},{\"attributes\":{\"coordinates\":null,\"data_source\":{\"id\":\"3411\"},\"glyph\":{\"id\":\"3414\"},\"group\":null,\"hover_glyph\":null,\"muted_glyph\":{\"id\":\"3416\"},\"nonselection_glyph\":{\"id\":\"3415\"},\"selection_glyph\":{\"id\":\"3419\"},\"view\":{\"id\":\"3418\"}},\"id\":\"3417\",\"type\":\"GlyphRenderer\"},{\"attributes\":{\"months\":[0,2,4,6,8,10]},\"id\":\"3444\",\"type\":\"MonthsTicker\"},{\"attributes\":{\"line_color\":\"#30a2da\",\"line_width\":2,\"x\":{\"field\":\"Date\"},\"y\":{\"field\":\"Daily Returns\"}},\"id\":\"3419\",\"type\":\"Line\"},{\"attributes\":{\"months\":[0,4,8]},\"id\":\"3445\",\"type\":\"MonthsTicker\"},{\"attributes\":{},\"id\":\"3422\",\"type\":\"AllLabels\"},{\"attributes\":{},\"id\":\"3433\",\"type\":\"UnionRenderers\"}],\"root_ids\":[\"3376\"]},\"title\":\"Bokeh Application\",\"version\":\"2.4.2\"}};\n",
       "    var render_items = [{\"docid\":\"c8b86c49-8c8a-414b-a448-7b8df9c45998\",\"root_ids\":[\"3376\"],\"roots\":{\"3376\":\"f9e2fafc-806e-47c6-83c9-2b2508359d37\"}}];\n",
       "    root.Bokeh.embed.embed_items_notebook(docs_json, render_items);\n",
       "  }\n",
       "  if (root.Bokeh !== undefined && root.Bokeh.Panel !== undefined) {\n",
       "    embed_document(root);\n",
       "  } else {\n",
       "    var attempts = 0;\n",
       "    var timer = setInterval(function(root) {\n",
       "      if (root.Bokeh !== undefined && root.Bokeh.Panel !== undefined) {\n",
       "        clearInterval(timer);\n",
       "        embed_document(root);\n",
       "      } else if (document.readyState == \"complete\") {\n",
       "        attempts++;\n",
       "        if (attempts > 200) {\n",
       "          clearInterval(timer);\n",
       "          console.log(\"Bokeh: ERROR: Unable to run BokehJS code because BokehJS library is missing\");\n",
       "        }\n",
       "      }\n",
       "    }, 25, root)\n",
       "  }\n",
       "})(window);</script>"
      ],
      "text/plain": [
       ":Curve   [Date]   (Daily Returns)"
      ]
     },
     "execution_count": 69,
     "metadata": {
      "application/vnd.holoviews_exec.v0+json": {
       "id": "3376"
      }
     },
     "output_type": "execute_result"
    }
   ],
   "source": [
    "#Plotting daily returns \n",
    "btc_dly_ret.hvplot(title='Daily returns of bitcoin closing prices (2021)')"
   ]
  },
  {
   "cell_type": "markdown",
   "id": "4b727dd1-692d-4a9f-aa6d-bb6354981693",
   "metadata": {},
   "source": [
    "### Daily Returns Histogram"
   ]
  },
  {
   "cell_type": "code",
   "execution_count": 70,
   "id": "8a70faf5-a912-4d4f-b0bf-55552e279c85",
   "metadata": {},
   "outputs": [
    {
     "data": {},
     "metadata": {},
     "output_type": "display_data"
    },
    {
     "data": {
      "application/vnd.holoviews_exec.v0+json": "",
      "text/html": [
       "<div id='3582'>\n",
       "\n",
       "\n",
       "\n",
       "\n",
       "\n",
       "  <div class=\"bk-root\" id=\"6d26929c-d0a5-4eb4-8ad6-78ae292ec2d0\" data-root-id=\"3582\"></div>\n",
       "</div>\n",
       "<script type=\"application/javascript\">(function(root) {\n",
       "  function embed_document(root) {\n",
       "    var docs_json = {\"7400afc9-dfc0-464c-83e6-9f5d4736fdd8\":{\"defs\":[{\"extends\":null,\"module\":null,\"name\":\"ReactiveHTML1\",\"overrides\":[],\"properties\":[]},{\"extends\":null,\"module\":null,\"name\":\"FlexBox1\",\"overrides\":[],\"properties\":[{\"default\":\"flex-start\",\"kind\":null,\"name\":\"align_content\"},{\"default\":\"flex-start\",\"kind\":null,\"name\":\"align_items\"},{\"default\":\"row\",\"kind\":null,\"name\":\"flex_direction\"},{\"default\":\"wrap\",\"kind\":null,\"name\":\"flex_wrap\"},{\"default\":\"flex-start\",\"kind\":null,\"name\":\"justify_content\"}]},{\"extends\":null,\"module\":null,\"name\":\"GridStack1\",\"overrides\":[],\"properties\":[{\"default\":\"warn\",\"kind\":null,\"name\":\"mode\"},{\"default\":null,\"kind\":null,\"name\":\"ncols\"},{\"default\":null,\"kind\":null,\"name\":\"nrows\"},{\"default\":true,\"kind\":null,\"name\":\"allow_resize\"},{\"default\":true,\"kind\":null,\"name\":\"allow_drag\"},{\"default\":[],\"kind\":null,\"name\":\"state\"}]},{\"extends\":null,\"module\":null,\"name\":\"click1\",\"overrides\":[],\"properties\":[{\"default\":\"\",\"kind\":null,\"name\":\"terminal_output\"},{\"default\":\"\",\"kind\":null,\"name\":\"debug_name\"},{\"default\":0,\"kind\":null,\"name\":\"clears\"}]},{\"extends\":null,\"module\":null,\"name\":\"TemplateActions1\",\"overrides\":[],\"properties\":[{\"default\":0,\"kind\":null,\"name\":\"open_modal\"},{\"default\":0,\"kind\":null,\"name\":\"close_modal\"}]},{\"extends\":null,\"module\":null,\"name\":\"MaterialTemplateActions1\",\"overrides\":[],\"properties\":[{\"default\":0,\"kind\":null,\"name\":\"open_modal\"},{\"default\":0,\"kind\":null,\"name\":\"close_modal\"}]}],\"roots\":{\"references\":[{\"attributes\":{\"margin\":[5,5,5,5],\"name\":\"HSpacer04124\",\"sizing_mode\":\"stretch_width\"},\"id\":\"3583\",\"type\":\"Spacer\"},{\"attributes\":{},\"id\":\"3630\",\"type\":\"AllLabels\"},{\"attributes\":{},\"id\":\"3592\",\"type\":\"CategoricalScale\"},{\"attributes\":{\"fill_alpha\":{\"value\":0.1},\"fill_color\":{\"value\":\"#30a2da\"},\"hatch_alpha\":{\"value\":0.1},\"hatch_color\":{\"value\":\"#30a2da\"},\"line_alpha\":{\"value\":0.1},\"top\":{\"field\":\"Daily_Returns\"},\"width\":{\"value\":0.8},\"x\":{\"field\":\"Date\"}},\"id\":\"3620\",\"type\":\"VBar\"},{\"attributes\":{\"children\":[{\"id\":\"3583\"},{\"id\":\"3587\"},{\"id\":\"3651\"}],\"margin\":[0,0,0,0],\"name\":\"Row04120\",\"tags\":[\"embedded\"]},\"id\":\"3582\",\"type\":\"Row\"},{\"attributes\":{},\"id\":\"3627\",\"type\":\"AllLabels\"},{\"attributes\":{\"fill_color\":{\"value\":\"#30a2da\"},\"hatch_color\":{\"value\":\"#30a2da\"},\"top\":{\"field\":\"Daily_Returns\"},\"width\":{\"value\":0.8},\"x\":{\"field\":\"Date\"}},\"id\":\"3619\",\"type\":\"VBar\"},{\"attributes\":{},\"id\":\"3594\",\"type\":\"LinearScale\"},{\"attributes\":{},\"id\":\"3617\",\"type\":\"Selection\"},{\"attributes\":{},\"id\":\"3638\",\"type\":\"UnionRenderers\"},{\"attributes\":{\"factors\":[\"2021-01-01\",\"2021-01-02\",\"2021-01-03\",\"2021-01-04\",\"2021-01-05\",\"2021-01-06\",\"2021-01-07\",\"2021-01-08\",\"2021-01-09\",\"2021-01-10\",\"2021-01-11\",\"2021-01-12\",\"2021-01-13\",\"2021-01-14\",\"2021-01-15\",\"2021-01-16\",\"2021-01-17\",\"2021-01-18\",\"2021-01-19\",\"2021-01-20\",\"2021-01-21\",\"2021-01-22\",\"2021-01-23\",\"2021-01-24\",\"2021-01-25\",\"2021-01-26\",\"2021-01-27\",\"2021-01-28\",\"2021-01-29\",\"2021-01-30\",\"2021-01-31\",\"2021-02-01\",\"2021-02-02\",\"2021-02-03\",\"2021-02-04\",\"2021-02-05\",\"2021-02-06\",\"2021-02-07\",\"2021-02-08\",\"2021-02-09\",\"2021-02-10\",\"2021-02-11\",\"2021-02-12\",\"2021-02-13\",\"2021-02-14\",\"2021-02-15\",\"2021-02-16\",\"2021-02-17\",\"2021-02-18\",\"2021-02-19\",\"2021-02-20\",\"2021-02-21\",\"2021-02-22\",\"2021-02-23\",\"2021-02-24\",\"2021-02-25\",\"2021-02-26\",\"2021-02-27\",\"2021-02-28\",\"2021-03-01\",\"2021-03-02\",\"2021-03-03\",\"2021-03-04\",\"2021-03-05\",\"2021-03-06\",\"2021-03-07\",\"2021-03-08\",\"2021-03-09\",\"2021-03-10\",\"2021-03-11\",\"2021-03-12\",\"2021-03-13\",\"2021-03-14\",\"2021-03-15\",\"2021-03-16\",\"2021-03-17\",\"2021-03-18\",\"2021-03-19\",\"2021-03-20\",\"2021-03-21\",\"2021-03-22\",\"2021-03-23\",\"2021-03-24\",\"2021-03-25\",\"2021-03-26\",\"2021-03-27\",\"2021-03-28\",\"2021-03-29\",\"2021-03-30\",\"2021-03-31\",\"2021-04-01\",\"2021-04-02\",\"2021-04-03\",\"2021-04-04\",\"2021-04-05\",\"2021-04-06\",\"2021-04-07\",\"2021-04-08\",\"2021-04-09\",\"2021-04-10\",\"2021-04-11\",\"2021-04-12\",\"2021-04-13\",\"2021-04-14\",\"2021-04-15\",\"2021-04-16\",\"2021-04-17\",\"2021-04-18\",\"2021-04-19\",\"2021-04-20\",\"2021-04-21\",\"2021-04-22\",\"2021-04-23\",\"2021-04-24\",\"2021-04-25\",\"2021-04-26\",\"2021-04-27\",\"2021-04-28\",\"2021-04-29\",\"2021-04-30\",\"2021-05-01\",\"2021-05-02\",\"2021-05-03\",\"2021-05-04\",\"2021-05-05\",\"2021-05-06\",\"2021-05-07\",\"2021-05-08\",\"2021-05-09\",\"2021-05-10\",\"2021-05-11\",\"2021-05-12\",\"2021-05-13\",\"2021-05-14\",\"2021-05-15\",\"2021-05-16\",\"2021-05-17\",\"2021-05-18\",\"2021-05-19\",\"2021-05-20\",\"2021-05-21\",\"2021-05-22\",\"2021-05-23\",\"2021-05-24\",\"2021-05-25\",\"2021-05-26\",\"2021-05-27\",\"2021-05-28\",\"2021-05-29\",\"2021-05-30\",\"2021-05-31\",\"2021-06-01\",\"2021-06-02\",\"2021-06-03\",\"2021-06-04\",\"2021-06-05\",\"2021-06-06\",\"2021-06-07\",\"2021-06-08\",\"2021-06-09\",\"2021-06-10\",\"2021-06-11\",\"2021-06-12\",\"2021-06-13\",\"2021-06-14\",\"2021-06-15\",\"2021-06-16\",\"2021-06-17\",\"2021-06-18\",\"2021-06-19\",\"2021-06-20\",\"2021-06-21\",\"2021-06-22\",\"2021-06-23\",\"2021-06-24\",\"2021-06-25\",\"2021-06-26\",\"2021-06-27\",\"2021-06-28\",\"2021-06-29\",\"2021-06-30\",\"2021-07-01\",\"2021-07-02\",\"2021-07-03\",\"2021-07-04\",\"2021-07-05\",\"2021-07-06\",\"2021-07-07\",\"2021-07-08\",\"2021-07-09\",\"2021-07-10\",\"2021-07-11\",\"2021-07-12\",\"2021-07-13\",\"2021-07-14\",\"2021-07-15\",\"2021-07-16\",\"2021-07-17\",\"2021-07-18\",\"2021-07-19\",\"2021-07-20\",\"2021-07-21\",\"2021-07-22\",\"2021-07-23\",\"2021-07-24\",\"2021-07-25\",\"2021-07-26\",\"2021-07-27\",\"2021-07-28\",\"2021-07-29\",\"2021-07-30\",\"2021-07-31\",\"2021-08-01\",\"2021-08-02\",\"2021-08-03\",\"2021-08-04\",\"2021-08-05\",\"2021-08-06\",\"2021-08-07\",\"2021-08-08\",\"2021-08-09\",\"2021-08-10\",\"2021-08-11\",\"2021-08-12\",\"2021-08-13\",\"2021-08-14\",\"2021-08-15\",\"2021-08-16\",\"2021-08-17\",\"2021-08-18\",\"2021-08-19\",\"2021-08-20\",\"2021-08-21\",\"2021-08-22\",\"2021-08-23\",\"2021-08-24\",\"2021-08-25\",\"2021-08-26\",\"2021-08-27\",\"2021-08-28\",\"2021-08-29\",\"2021-08-30\",\"2021-08-31\",\"2021-09-01\",\"2021-09-02\",\"2021-09-03\",\"2021-09-04\",\"2021-09-05\",\"2021-09-06\",\"2021-09-07\",\"2021-09-08\",\"2021-09-09\",\"2021-09-10\",\"2021-09-11\",\"2021-09-12\",\"2021-09-13\",\"2021-09-14\",\"2021-09-15\",\"2021-09-16\",\"2021-09-17\",\"2021-09-18\",\"2021-09-19\",\"2021-09-20\",\"2021-09-21\",\"2021-09-22\",\"2021-09-23\",\"2021-09-24\",\"2021-09-25\",\"2021-09-26\",\"2021-09-27\",\"2021-09-28\",\"2021-09-29\",\"2021-09-30\",\"2021-10-01\",\"2021-10-02\",\"2021-10-03\",\"2021-10-04\",\"2021-10-05\",\"2021-10-06\",\"2021-10-07\",\"2021-10-08\",\"2021-10-09\",\"2021-10-10\",\"2021-10-11\",\"2021-10-12\",\"2021-10-13\",\"2021-10-14\",\"2021-10-15\",\"2021-10-16\",\"2021-10-17\",\"2021-10-18\",\"2021-10-19\",\"2021-10-20\",\"2021-10-21\",\"2021-10-22\",\"2021-10-23\",\"2021-10-24\",\"2021-10-25\",\"2021-10-26\",\"2021-10-27\",\"2021-10-28\",\"2021-10-29\",\"2021-10-30\",\"2021-10-31\",\"2021-11-01\",\"2021-11-02\",\"2021-11-03\",\"2021-11-04\",\"2021-11-05\",\"2021-11-06\",\"2021-11-07\",\"2021-11-08\",\"2021-11-09\",\"2021-11-10\",\"2021-11-11\",\"2021-11-12\",\"2021-11-13\",\"2021-11-14\",\"2021-11-15\",\"2021-11-16\",\"2021-11-17\",\"2021-11-18\",\"2021-11-19\",\"2021-11-20\",\"2021-11-21\",\"2021-11-22\",\"2021-11-23\",\"2021-11-24\",\"2021-11-25\",\"2021-11-26\",\"2021-11-27\",\"2021-11-28\",\"2021-11-29\",\"2021-11-30\",\"2021-12-01\",\"2021-12-02\",\"2021-12-03\",\"2021-12-04\",\"2021-12-05\",\"2021-12-06\",\"2021-12-07\",\"2021-12-08\",\"2021-12-09\",\"2021-12-10\",\"2021-12-11\",\"2021-12-12\",\"2021-12-13\",\"2021-12-14\",\"2021-12-15\",\"2021-12-16\",\"2021-12-17\",\"2021-12-18\",\"2021-12-19\",\"2021-12-20\",\"2021-12-21\",\"2021-12-22\",\"2021-12-23\",\"2021-12-24\",\"2021-12-25\",\"2021-12-26\",\"2021-12-27\",\"2021-12-28\",\"2021-12-29\",\"2021-12-30\",\"2021-12-31\"],\"tags\":[[[\"Date\",\"Date\",null]]]},\"id\":\"3584\",\"type\":\"FactorRange\"},{\"attributes\":{\"coordinates\":null,\"group\":null,\"text\":\"Daily returns of bitcoin closing prices (2021)\",\"text_color\":\"black\",\"text_font_size\":\"12pt\"},\"id\":\"3588\",\"type\":\"Title\"},{\"attributes\":{\"coordinates\":null,\"data_source\":{\"id\":\"3616\"},\"glyph\":{\"id\":\"3619\"},\"group\":null,\"hover_glyph\":null,\"muted_glyph\":{\"id\":\"3621\"},\"nonselection_glyph\":{\"id\":\"3620\"},\"selection_glyph\":{\"id\":\"3624\"},\"view\":{\"id\":\"3623\"}},\"id\":\"3622\",\"type\":\"GlyphRenderer\"},{\"attributes\":{\"callback\":null,\"renderers\":[{\"id\":\"3622\"}],\"tags\":[\"hv_created\"],\"tooltips\":[[\"Date\",\"@{Date}\"],[\"Daily Returns\",\"@{Daily_Returns}\"]]},\"id\":\"3586\",\"type\":\"HoverTool\"},{\"attributes\":{\"source\":{\"id\":\"3616\"}},\"id\":\"3623\",\"type\":\"CDSView\"},{\"attributes\":{\"bottom\":{\"value\":0},\"fill_alpha\":{\"value\":1.0},\"fill_color\":{\"value\":\"#30a2da\"},\"hatch_alpha\":{\"value\":1.0},\"hatch_color\":{\"value\":\"#30a2da\"},\"hatch_scale\":{\"value\":12.0},\"hatch_weight\":{\"value\":1.0},\"line_alpha\":{\"value\":1.0},\"line_cap\":{\"value\":\"butt\"},\"line_color\":{\"value\":\"black\"},\"line_dash\":{\"value\":[]},\"line_dash_offset\":{\"value\":0},\"line_join\":{\"value\":\"bevel\"},\"line_width\":{\"value\":1},\"top\":{\"field\":\"Daily_Returns\"},\"width\":{\"value\":0.8},\"x\":{\"field\":\"Date\"}},\"id\":\"3624\",\"type\":\"VBar\"},{\"attributes\":{\"fill_alpha\":{\"value\":0.2},\"fill_color\":{\"value\":\"#30a2da\"},\"hatch_alpha\":{\"value\":0.2},\"hatch_color\":{\"value\":\"#30a2da\"},\"line_alpha\":{\"value\":0.2},\"top\":{\"field\":\"Daily_Returns\"},\"width\":{\"value\":0.8},\"x\":{\"field\":\"Date\"}},\"id\":\"3621\",\"type\":\"VBar\"},{\"attributes\":{\"end\":0.219972,\"reset_end\":0.219972,\"reset_start\":-0.170172,\"start\":-0.170172,\"tags\":[[[\"Daily Returns\",\"Daily Returns\",null]]]},\"id\":\"3585\",\"type\":\"Range1d\"},{\"attributes\":{},\"id\":\"3597\",\"type\":\"CategoricalTicker\"},{\"attributes\":{\"axis\":{\"id\":\"3596\"},\"coordinates\":null,\"grid_line_color\":null,\"group\":null,\"ticker\":null},\"id\":\"3598\",\"type\":\"Grid\"},{\"attributes\":{},\"id\":\"3604\",\"type\":\"PanTool\"},{\"attributes\":{\"axis_label\":\"Date\",\"coordinates\":null,\"formatter\":{\"id\":\"3626\"},\"group\":null,\"major_label_policy\":{\"id\":\"3627\"},\"ticker\":{\"id\":\"3597\"}},\"id\":\"3596\",\"type\":\"CategoricalAxis\"},{\"attributes\":{\"axis\":{\"id\":\"3599\"},\"coordinates\":null,\"dimension\":1,\"grid_line_color\":null,\"group\":null,\"ticker\":null},\"id\":\"3602\",\"type\":\"Grid\"},{\"attributes\":{},\"id\":\"3626\",\"type\":\"CategoricalTickFormatter\"},{\"attributes\":{\"data\":{\"Daily_Returns\":{\"__ndarray__\":\"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\",\"dtype\":\"float64\",\"order\":\"little\",\"shape\":[365]},\"Date\":[\"2021-01-01\",\"2021-01-02\",\"2021-01-03\",\"2021-01-04\",\"2021-01-05\",\"2021-01-06\",\"2021-01-07\",\"2021-01-08\",\"2021-01-09\",\"2021-01-10\",\"2021-01-11\",\"2021-01-12\",\"2021-01-13\",\"2021-01-14\",\"2021-01-15\",\"2021-01-16\",\"2021-01-17\",\"2021-01-18\",\"2021-01-19\",\"2021-01-20\",\"2021-01-21\",\"2021-01-22\",\"2021-01-23\",\"2021-01-24\",\"2021-01-25\",\"2021-01-26\",\"2021-01-27\",\"2021-01-28\",\"2021-01-29\",\"2021-01-30\",\"2021-01-31\",\"2021-02-01\",\"2021-02-02\",\"2021-02-03\",\"2021-02-04\",\"2021-02-05\",\"2021-02-06\",\"2021-02-07\",\"2021-02-08\",\"2021-02-09\",\"2021-02-10\",\"2021-02-11\",\"2021-02-12\",\"2021-02-13\",\"2021-02-14\",\"2021-02-15\",\"2021-02-16\",\"2021-02-17\",\"2021-02-18\",\"2021-02-19\",\"2021-02-20\",\"2021-02-21\",\"2021-02-22\",\"2021-02-23\",\"2021-02-24\",\"2021-02-25\",\"2021-02-26\",\"2021-02-27\",\"2021-02-28\",\"2021-03-01\",\"2021-03-02\",\"2021-03-03\",\"2021-03-04\",\"2021-03-05\",\"2021-03-06\",\"2021-03-07\",\"2021-03-08\",\"2021-03-09\",\"2021-03-10\",\"2021-03-11\",\"2021-03-12\",\"2021-03-13\",\"2021-03-14\",\"2021-03-15\",\"2021-03-16\",\"2021-03-17\",\"2021-03-18\",\"2021-03-19\",\"2021-03-20\",\"2021-03-21\",\"2021-03-22\",\"2021-03-23\",\"2021-03-24\",\"2021-03-25\",\"2021-03-26\",\"2021-03-27\",\"2021-03-28\",\"2021-03-29\",\"2021-03-30\",\"2021-03-31\",\"2021-04-01\",\"2021-04-02\",\"2021-04-03\",\"2021-04-04\",\"2021-04-05\",\"2021-04-06\",\"2021-04-07\",\"2021-04-08\",\"2021-04-09\",\"2021-04-10\",\"2021-04-11\",\"2021-04-12\",\"2021-04-13\",\"2021-04-14\",\"2021-04-15\",\"2021-04-16\",\"2021-04-17\",\"2021-04-18\",\"2021-04-19\",\"2021-04-20\",\"2021-04-21\",\"2021-04-22\",\"2021-04-23\",\"2021-04-24\",\"2021-04-25\",\"2021-04-26\",\"2021-04-27\",\"2021-04-28\",\"2021-04-29\",\"2021-04-30\",\"2021-05-01\",\"2021-05-02\",\"2021-05-03\",\"2021-05-04\",\"2021-05-05\",\"2021-05-06\",\"2021-05-07\",\"2021-05-08\",\"2021-05-09\",\"2021-05-10\",\"2021-05-11\",\"2021-05-12\",\"2021-05-13\",\"2021-05-14\",\"2021-05-15\",\"2021-05-16\",\"2021-05-17\",\"2021-05-18\",\"2021-05-19\",\"2021-05-20\",\"2021-05-21\",\"2021-05-22\",\"2021-05-23\",\"2021-05-24\",\"2021-05-25\",\"2021-05-26\",\"2021-05-27\",\"2021-05-28\",\"2021-05-29\",\"2021-05-30\",\"2021-05-31\",\"2021-06-01\",\"2021-06-02\",\"2021-06-03\",\"2021-06-04\",\"2021-06-05\",\"2021-06-06\",\"2021-06-07\",\"2021-06-08\",\"2021-06-09\",\"2021-06-10\",\"2021-06-11\",\"2021-06-12\",\"2021-06-13\",\"2021-06-14\",\"2021-06-15\",\"2021-06-16\",\"2021-06-17\",\"2021-06-18\",\"2021-06-19\",\"2021-06-20\",\"2021-06-21\",\"2021-06-22\",\"2021-06-23\",\"2021-06-24\",\"2021-06-25\",\"2021-06-26\",\"2021-06-27\",\"2021-06-28\",\"2021-06-29\",\"2021-06-30\",\"2021-07-01\",\"2021-07-02\",\"2021-07-03\",\"2021-07-04\",\"2021-07-05\",\"2021-07-06\",\"2021-07-07\",\"2021-07-08\",\"2021-07-09\",\"2021-07-10\",\"2021-07-11\",\"2021-07-12\",\"2021-07-13\",\"2021-07-14\",\"2021-07-15\",\"2021-07-16\",\"2021-07-17\",\"2021-07-18\",\"2021-07-19\",\"2021-07-20\",\"2021-07-21\",\"2021-07-22\",\"2021-07-23\",\"2021-07-24\",\"2021-07-25\",\"2021-07-26\",\"2021-07-27\",\"2021-07-28\",\"2021-07-29\",\"2021-07-30\",\"2021-07-31\",\"2021-08-01\",\"2021-08-02\",\"2021-08-03\",\"2021-08-04\",\"2021-08-05\",\"2021-08-06\",\"2021-08-07\",\"2021-08-08\",\"2021-08-09\",\"2021-08-10\",\"2021-08-11\",\"2021-08-12\",\"2021-08-13\",\"2021-08-14\",\"2021-08-15\",\"2021-08-16\",\"2021-08-17\",\"2021-08-18\",\"2021-08-19\",\"2021-08-20\",\"2021-08-21\",\"2021-08-22\",\"2021-08-23\",\"2021-08-24\",\"2021-08-25\",\"2021-08-26\",\"2021-08-27\",\"2021-08-28\",\"2021-08-29\",\"2021-08-30\",\"2021-08-31\",\"2021-09-01\",\"2021-09-02\",\"2021-09-03\",\"2021-09-04\",\"2021-09-05\",\"2021-09-06\",\"2021-09-07\",\"2021-09-08\",\"2021-09-09\",\"2021-09-10\",\"2021-09-11\",\"2021-09-12\",\"2021-09-13\",\"2021-09-14\",\"2021-09-15\",\"2021-09-16\",\"2021-09-17\",\"2021-09-18\",\"2021-09-19\",\"2021-09-20\",\"2021-09-21\",\"2021-09-22\",\"2021-09-23\",\"2021-09-24\",\"2021-09-25\",\"2021-09-26\",\"2021-09-27\",\"2021-09-28\",\"2021-09-29\",\"2021-09-30\",\"2021-10-01\",\"2021-10-02\",\"2021-10-03\",\"2021-10-04\",\"2021-10-05\",\"2021-10-06\",\"2021-10-07\",\"2021-10-08\",\"2021-10-09\",\"2021-10-10\",\"2021-10-11\",\"2021-10-12\",\"2021-10-13\",\"2021-10-14\",\"2021-10-15\",\"2021-10-16\",\"2021-10-17\",\"2021-10-18\",\"2021-10-19\",\"2021-10-20\",\"2021-10-21\",\"2021-10-22\",\"2021-10-23\",\"2021-10-24\",\"2021-10-25\",\"2021-10-26\",\"2021-10-27\",\"2021-10-28\",\"2021-10-29\",\"2021-10-30\",\"2021-10-31\",\"2021-11-01\",\"2021-11-02\",\"2021-11-03\",\"2021-11-04\",\"2021-11-05\",\"2021-11-06\",\"2021-11-07\",\"2021-11-08\",\"2021-11-09\",\"2021-11-10\",\"2021-11-11\",\"2021-11-12\",\"2021-11-13\",\"2021-11-14\",\"2021-11-15\",\"2021-11-16\",\"2021-11-17\",\"2021-11-18\",\"2021-11-19\",\"2021-11-20\",\"2021-11-21\",\"2021-11-22\",\"2021-11-23\",\"2021-11-24\",\"2021-11-25\",\"2021-11-26\",\"2021-11-27\",\"2021-11-28\",\"2021-11-29\",\"2021-11-30\",\"2021-12-01\",\"2021-12-02\",\"2021-12-03\",\"2021-12-04\",\"2021-12-05\",\"2021-12-06\",\"2021-12-07\",\"2021-12-08\",\"2021-12-09\",\"2021-12-10\",\"2021-12-11\",\"2021-12-12\",\"2021-12-13\",\"2021-12-14\",\"2021-12-15\",\"2021-12-16\",\"2021-12-17\",\"2021-12-18\",\"2021-12-19\",\"2021-12-20\",\"2021-12-21\",\"2021-12-22\",\"2021-12-23\",\"2021-12-24\",\"2021-12-25\",\"2021-12-26\",\"2021-12-27\",\"2021-12-28\",\"2021-12-29\",\"2021-12-30\",\"2021-12-31\"]},\"selected\":{\"id\":\"3617\"},\"selection_policy\":{\"id\":\"3638\"}},\"id\":\"3616\",\"type\":\"ColumnDataSource\"},{\"attributes\":{},\"id\":\"3629\",\"type\":\"BasicTickFormatter\"},{\"attributes\":{\"axis_label\":\"Daily Returns\",\"coordinates\":null,\"formatter\":{\"id\":\"3629\"},\"group\":null,\"major_label_policy\":{\"id\":\"3630\"},\"ticker\":{\"id\":\"3600\"}},\"id\":\"3599\",\"type\":\"LinearAxis\"},{\"attributes\":{},\"id\":\"3600\",\"type\":\"BasicTicker\"},{\"attributes\":{},\"id\":\"3605\",\"type\":\"WheelZoomTool\"},{\"attributes\":{\"below\":[{\"id\":\"3596\"}],\"center\":[{\"id\":\"3598\"},{\"id\":\"3602\"}],\"height\":300,\"left\":[{\"id\":\"3599\"}],\"margin\":[5,5,5,5],\"min_border_bottom\":10,\"min_border_left\":10,\"min_border_right\":10,\"min_border_top\":10,\"renderers\":[{\"id\":\"3622\"}],\"sizing_mode\":\"fixed\",\"title\":{\"id\":\"3588\"},\"toolbar\":{\"id\":\"3609\"},\"width\":700,\"x_range\":{\"id\":\"3584\"},\"x_scale\":{\"id\":\"3592\"},\"y_range\":{\"id\":\"3585\"},\"y_scale\":{\"id\":\"3594\"}},\"id\":\"3587\",\"subtype\":\"Figure\",\"type\":\"Plot\"},{\"attributes\":{},\"id\":\"3603\",\"type\":\"SaveTool\"},{\"attributes\":{\"overlay\":{\"id\":\"3608\"}},\"id\":\"3606\",\"type\":\"BoxZoomTool\"},{\"attributes\":{},\"id\":\"3607\",\"type\":\"ResetTool\"},{\"attributes\":{\"bottom_units\":\"screen\",\"coordinates\":null,\"fill_alpha\":0.5,\"fill_color\":\"lightgrey\",\"group\":null,\"left_units\":\"screen\",\"level\":\"overlay\",\"line_alpha\":1.0,\"line_color\":\"black\",\"line_dash\":[4,4],\"line_width\":2,\"right_units\":\"screen\",\"syncable\":false,\"top_units\":\"screen\"},\"id\":\"3608\",\"type\":\"BoxAnnotation\"},{\"attributes\":{\"margin\":[5,5,5,5],\"name\":\"HSpacer04125\",\"sizing_mode\":\"stretch_width\"},\"id\":\"3651\",\"type\":\"Spacer\"},{\"attributes\":{\"tools\":[{\"id\":\"3586\"},{\"id\":\"3603\"},{\"id\":\"3604\"},{\"id\":\"3605\"},{\"id\":\"3606\"},{\"id\":\"3607\"}]},\"id\":\"3609\",\"type\":\"Toolbar\"}],\"root_ids\":[\"3582\"]},\"title\":\"Bokeh Application\",\"version\":\"2.4.2\"}};\n",
       "    var render_items = [{\"docid\":\"7400afc9-dfc0-464c-83e6-9f5d4736fdd8\",\"root_ids\":[\"3582\"],\"roots\":{\"3582\":\"6d26929c-d0a5-4eb4-8ad6-78ae292ec2d0\"}}];\n",
       "    root.Bokeh.embed.embed_items_notebook(docs_json, render_items);\n",
       "  }\n",
       "  if (root.Bokeh !== undefined && root.Bokeh.Panel !== undefined) {\n",
       "    embed_document(root);\n",
       "  } else {\n",
       "    var attempts = 0;\n",
       "    var timer = setInterval(function(root) {\n",
       "      if (root.Bokeh !== undefined && root.Bokeh.Panel !== undefined) {\n",
       "        clearInterval(timer);\n",
       "        embed_document(root);\n",
       "      } else if (document.readyState == \"complete\") {\n",
       "        attempts++;\n",
       "        if (attempts > 200) {\n",
       "          clearInterval(timer);\n",
       "          console.log(\"Bokeh: ERROR: Unable to run BokehJS code because BokehJS library is missing\");\n",
       "        }\n",
       "      }\n",
       "    }, 25, root)\n",
       "  }\n",
       "})(window);</script>"
      ],
      "text/plain": [
       ":Bars   [Date]   (Daily Returns)"
      ]
     },
     "execution_count": 70,
     "metadata": {
      "application/vnd.holoviews_exec.v0+json": {
       "id": "3582"
      }
     },
     "output_type": "execute_result"
    }
   ],
   "source": [
    "# Plotting dailyreturns in bar diagram\n",
    "btc_dly_ret.hvplot.bar(title='Daily returns of bitcoin closing prices (2021)',figsize=(20,10), )"
   ]
  },
  {
   "cell_type": "markdown",
   "id": "07367076-815f-483c-bb8c-6d754e371299",
   "metadata": {},
   "source": [
    "### Plot monthly average daily returns"
   ]
  },
  {
   "cell_type": "code",
   "execution_count": 71,
   "id": "bc44714f-41b7-42b8-aba8-2e8c8f960277",
   "metadata": {},
   "outputs": [
    {
     "data": {},
     "metadata": {},
     "output_type": "display_data"
    },
    {
     "data": {
      "application/vnd.holoviews_exec.v0+json": "",
      "text/html": [
       "<div id='3703'>\n",
       "\n",
       "\n",
       "\n",
       "\n",
       "\n",
       "  <div class=\"bk-root\" id=\"7a8d8a44-34a0-4e7f-b155-b5462491ba28\" data-root-id=\"3703\"></div>\n",
       "</div>\n",
       "<script type=\"application/javascript\">(function(root) {\n",
       "  function embed_document(root) {\n",
       "    var docs_json = {\"8edcec95-b396-47e0-b34f-3f280c00b2a9\":{\"defs\":[{\"extends\":null,\"module\":null,\"name\":\"ReactiveHTML1\",\"overrides\":[],\"properties\":[]},{\"extends\":null,\"module\":null,\"name\":\"FlexBox1\",\"overrides\":[],\"properties\":[{\"default\":\"flex-start\",\"kind\":null,\"name\":\"align_content\"},{\"default\":\"flex-start\",\"kind\":null,\"name\":\"align_items\"},{\"default\":\"row\",\"kind\":null,\"name\":\"flex_direction\"},{\"default\":\"wrap\",\"kind\":null,\"name\":\"flex_wrap\"},{\"default\":\"flex-start\",\"kind\":null,\"name\":\"justify_content\"}]},{\"extends\":null,\"module\":null,\"name\":\"GridStack1\",\"overrides\":[],\"properties\":[{\"default\":\"warn\",\"kind\":null,\"name\":\"mode\"},{\"default\":null,\"kind\":null,\"name\":\"ncols\"},{\"default\":null,\"kind\":null,\"name\":\"nrows\"},{\"default\":true,\"kind\":null,\"name\":\"allow_resize\"},{\"default\":true,\"kind\":null,\"name\":\"allow_drag\"},{\"default\":[],\"kind\":null,\"name\":\"state\"}]},{\"extends\":null,\"module\":null,\"name\":\"click1\",\"overrides\":[],\"properties\":[{\"default\":\"\",\"kind\":null,\"name\":\"terminal_output\"},{\"default\":\"\",\"kind\":null,\"name\":\"debug_name\"},{\"default\":0,\"kind\":null,\"name\":\"clears\"}]},{\"extends\":null,\"module\":null,\"name\":\"TemplateActions1\",\"overrides\":[],\"properties\":[{\"default\":0,\"kind\":null,\"name\":\"open_modal\"},{\"default\":0,\"kind\":null,\"name\":\"close_modal\"}]},{\"extends\":null,\"module\":null,\"name\":\"MaterialTemplateActions1\",\"overrides\":[],\"properties\":[{\"default\":0,\"kind\":null,\"name\":\"open_modal\"},{\"default\":0,\"kind\":null,\"name\":\"close_modal\"}]}],\"roots\":{\"references\":[{\"attributes\":{},\"id\":\"3729\",\"type\":\"ResetTool\"},{\"attributes\":{\"line_alpha\":0.1,\"line_color\":\"#30a2da\",\"line_width\":2,\"x\":{\"field\":\"Date\"},\"y\":{\"field\":\"Daily Returns\"}},\"id\":\"3742\",\"type\":\"Line\"},{\"attributes\":{},\"id\":\"3725\",\"type\":\"SaveTool\"},{\"attributes\":{\"bottom_units\":\"screen\",\"coordinates\":null,\"fill_alpha\":0.5,\"fill_color\":\"lightgrey\",\"group\":null,\"left_units\":\"screen\",\"level\":\"overlay\",\"line_alpha\":1.0,\"line_color\":\"black\",\"line_dash\":[4,4],\"line_width\":2,\"right_units\":\"screen\",\"syncable\":false,\"top_units\":\"screen\"},\"id\":\"3730\",\"type\":\"BoxAnnotation\"},{\"attributes\":{},\"id\":\"3774\",\"type\":\"YearsTicker\"},{\"attributes\":{\"line_color\":\"#30a2da\",\"line_width\":2,\"x\":{\"field\":\"Date\"},\"y\":{\"field\":\"Daily Returns\"}},\"id\":\"3746\",\"type\":\"Line\"},{\"attributes\":{\"days\":[1,2,3,4,5,6,7,8,9,10,11,12,13,14,15,16,17,18,19,20,21,22,23,24,25,26,27,28,29,30,31]},\"id\":\"3766\",\"type\":\"DaysTicker\"},{\"attributes\":{},\"id\":\"3739\",\"type\":\"Selection\"},{\"attributes\":{\"days\":[1,8,15,22]},\"id\":\"3768\",\"type\":\"DaysTicker\"},{\"attributes\":{\"months\":[0,1,2,3,4,5,6,7,8,9,10,11]},\"id\":\"3770\",\"type\":\"MonthsTicker\"},{\"attributes\":{\"days\":[1,4,7,10,13,16,19,22,25,28]},\"id\":\"3767\",\"type\":\"DaysTicker\"},{\"attributes\":{\"callback\":null,\"formatters\":{\"@{Date}\":\"datetime\"},\"renderers\":[{\"id\":\"3744\"}],\"tags\":[\"hv_created\"],\"tooltips\":[[\"Date\",\"@{Date}{%F %T}\"],[\"Daily Returns\",\"@{Daily_Returns}\"]]},\"id\":\"3707\",\"type\":\"HoverTool\"},{\"attributes\":{\"base\":24,\"mantissas\":[1,2,4,6,8,12],\"max_interval\":43200000.0,\"min_interval\":3600000.0,\"num_minor_ticks\":0},\"id\":\"3765\",\"type\":\"AdaptiveTicker\"},{\"attributes\":{\"below\":[{\"id\":\"3717\"}],\"center\":[{\"id\":\"3720\"},{\"id\":\"3724\"}],\"height\":300,\"left\":[{\"id\":\"3721\"}],\"margin\":[5,5,5,5],\"min_border_bottom\":10,\"min_border_left\":10,\"min_border_right\":10,\"min_border_top\":10,\"renderers\":[{\"id\":\"3744\"}],\"sizing_mode\":\"fixed\",\"title\":{\"id\":\"3709\"},\"toolbar\":{\"id\":\"3731\"},\"width\":700,\"x_range\":{\"id\":\"3705\"},\"x_scale\":{\"id\":\"3713\"},\"y_range\":{\"id\":\"3706\"},\"y_scale\":{\"id\":\"3715\"}},\"id\":\"3708\",\"subtype\":\"Figure\",\"type\":\"Plot\"},{\"attributes\":{},\"id\":\"3748\",\"type\":\"DatetimeTickFormatter\"},{\"attributes\":{\"days\":[1,15]},\"id\":\"3769\",\"type\":\"DaysTicker\"},{\"attributes\":{},\"id\":\"3760\",\"type\":\"UnionRenderers\"},{\"attributes\":{\"num_minor_ticks\":5,\"tickers\":[{\"id\":\"3763\"},{\"id\":\"3764\"},{\"id\":\"3765\"},{\"id\":\"3766\"},{\"id\":\"3767\"},{\"id\":\"3768\"},{\"id\":\"3769\"},{\"id\":\"3770\"},{\"id\":\"3771\"},{\"id\":\"3772\"},{\"id\":\"3773\"},{\"id\":\"3774\"}]},\"id\":\"3718\",\"type\":\"DatetimeTicker\"},{\"attributes\":{\"months\":[0,6]},\"id\":\"3773\",\"type\":\"MonthsTicker\"},{\"attributes\":{\"axis_label\":\"Date\",\"coordinates\":null,\"formatter\":{\"id\":\"3748\"},\"group\":null,\"major_label_policy\":{\"id\":\"3749\"},\"ticker\":{\"id\":\"3718\"}},\"id\":\"3717\",\"type\":\"DatetimeAxis\"},{\"attributes\":{},\"id\":\"3752\",\"type\":\"AllLabels\"},{\"attributes\":{\"line_color\":\"#30a2da\",\"line_width\":2,\"x\":{\"field\":\"Date\"},\"y\":{\"field\":\"Daily Returns\"}},\"id\":\"3741\",\"type\":\"Line\"},{\"attributes\":{\"margin\":[5,5,5,5],\"name\":\"HSpacer04273\",\"sizing_mode\":\"stretch_width\"},\"id\":\"3704\",\"type\":\"Spacer\"},{\"attributes\":{\"tools\":[{\"id\":\"3707\"},{\"id\":\"3725\"},{\"id\":\"3726\"},{\"id\":\"3727\"},{\"id\":\"3728\"},{\"id\":\"3729\"}]},\"id\":\"3731\",\"type\":\"Toolbar\"},{\"attributes\":{},\"id\":\"3749\",\"type\":\"AllLabels\"},{\"attributes\":{\"overlay\":{\"id\":\"3730\"}},\"id\":\"3728\",\"type\":\"BoxZoomTool\"},{\"attributes\":{\"source\":{\"id\":\"3738\"}},\"id\":\"3745\",\"type\":\"CDSView\"},{\"attributes\":{\"line_alpha\":0.2,\"line_color\":\"#30a2da\",\"line_width\":2,\"x\":{\"field\":\"Date\"},\"y\":{\"field\":\"Daily Returns\"}},\"id\":\"3743\",\"type\":\"Line\"},{\"attributes\":{},\"id\":\"3726\",\"type\":\"PanTool\"},{\"attributes\":{},\"id\":\"3713\",\"type\":\"LinearScale\"},{\"attributes\":{\"margin\":[5,5,5,5],\"name\":\"HSpacer04274\",\"sizing_mode\":\"stretch_width\"},\"id\":\"3797\",\"type\":\"Spacer\"},{\"attributes\":{},\"id\":\"3715\",\"type\":\"LinearScale\"},{\"attributes\":{\"coordinates\":null,\"data_source\":{\"id\":\"3738\"},\"glyph\":{\"id\":\"3741\"},\"group\":null,\"hover_glyph\":null,\"muted_glyph\":{\"id\":\"3743\"},\"nonselection_glyph\":{\"id\":\"3742\"},\"selection_glyph\":{\"id\":\"3746\"},\"view\":{\"id\":\"3745\"}},\"id\":\"3744\",\"type\":\"GlyphRenderer\"},{\"attributes\":{\"coordinates\":null,\"group\":null,\"text\":\"30 day Rolling Average\",\"text_color\":\"black\",\"text_font_size\":\"12pt\"},\"id\":\"3709\",\"type\":\"Title\"},{\"attributes\":{},\"id\":\"3751\",\"type\":\"BasicTickFormatter\"},{\"attributes\":{\"axis\":{\"id\":\"3721\"},\"coordinates\":null,\"dimension\":1,\"grid_line_color\":null,\"group\":null,\"ticker\":null},\"id\":\"3724\",\"type\":\"Grid\"},{\"attributes\":{\"data\":{\"Daily Returns\":{\"__ndarray__\":\"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\",\"dtype\":\"float64\",\"order\":\"little\",\"shape\":[365]},\"Daily_Returns\":{\"__ndarray__\":\"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\",\"dtype\":\"float64\",\"order\":\"little\",\"shape\":[365]},\"Date\":{\"__ndarray__\":\"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\",\"dtype\":\"float64\",\"order\":\"little\",\"shape\":[365]}},\"selected\":{\"id\":\"3739\"},\"selection_policy\":{\"id\":\"3760\"}},\"id\":\"3738\",\"type\":\"ColumnDataSource\"},{\"attributes\":{},\"id\":\"3727\",\"type\":\"WheelZoomTool\"},{\"attributes\":{\"end\":0.025087333333333336,\"reset_end\":0.025087333333333336,\"reset_start\":-0.020700666666666666,\"start\":-0.020700666666666666,\"tags\":[[[\"Daily Returns\",\"Daily Returns\",null]]]},\"id\":\"3706\",\"type\":\"Range1d\"},{\"attributes\":{\"children\":[{\"id\":\"3704\"},{\"id\":\"3708\"},{\"id\":\"3797\"}],\"margin\":[0,0,0,0],\"name\":\"Row04269\",\"tags\":[\"embedded\"]},\"id\":\"3703\",\"type\":\"Row\"},{\"attributes\":{\"months\":[0,2,4,6,8,10]},\"id\":\"3771\",\"type\":\"MonthsTicker\"},{\"attributes\":{\"axis\":{\"id\":\"3717\"},\"coordinates\":null,\"grid_line_color\":null,\"group\":null,\"ticker\":null},\"id\":\"3720\",\"type\":\"Grid\"},{\"attributes\":{\"end\":1640908800000.0,\"reset_end\":1640908800000.0,\"reset_start\":1609459200000.0,\"start\":1609459200000.0,\"tags\":[[[\"Date\",\"Date\",null]]]},\"id\":\"3705\",\"type\":\"Range1d\"},{\"attributes\":{\"months\":[0,4,8]},\"id\":\"3772\",\"type\":\"MonthsTicker\"},{\"attributes\":{\"base\":60,\"mantissas\":[1,2,5,10,15,20,30],\"max_interval\":1800000.0,\"min_interval\":1000.0,\"num_minor_ticks\":0},\"id\":\"3764\",\"type\":\"AdaptiveTicker\"},{\"attributes\":{},\"id\":\"3722\",\"type\":\"BasicTicker\"},{\"attributes\":{\"mantissas\":[1,2,5],\"max_interval\":500.0,\"num_minor_ticks\":0},\"id\":\"3763\",\"type\":\"AdaptiveTicker\"},{\"attributes\":{\"axis_label\":\"Daily Returns\",\"coordinates\":null,\"formatter\":{\"id\":\"3751\"},\"group\":null,\"major_label_policy\":{\"id\":\"3752\"},\"ticker\":{\"id\":\"3722\"}},\"id\":\"3721\",\"type\":\"LinearAxis\"}],\"root_ids\":[\"3703\"]},\"title\":\"Bokeh Application\",\"version\":\"2.4.2\"}};\n",
       "    var render_items = [{\"docid\":\"8edcec95-b396-47e0-b34f-3f280c00b2a9\",\"root_ids\":[\"3703\"],\"roots\":{\"3703\":\"7a8d8a44-34a0-4e7f-b155-b5462491ba28\"}}];\n",
       "    root.Bokeh.embed.embed_items_notebook(docs_json, render_items);\n",
       "  }\n",
       "  if (root.Bokeh !== undefined && root.Bokeh.Panel !== undefined) {\n",
       "    embed_document(root);\n",
       "  } else {\n",
       "    var attempts = 0;\n",
       "    var timer = setInterval(function(root) {\n",
       "      if (root.Bokeh !== undefined && root.Bokeh.Panel !== undefined) {\n",
       "        clearInterval(timer);\n",
       "        embed_document(root);\n",
       "      } else if (document.readyState == \"complete\") {\n",
       "        attempts++;\n",
       "        if (attempts > 200) {\n",
       "          clearInterval(timer);\n",
       "          console.log(\"Bokeh: ERROR: Unable to run BokehJS code because BokehJS library is missing\");\n",
       "        }\n",
       "      }\n",
       "    }, 25, root)\n",
       "  }\n",
       "})(window);</script>"
      ],
      "text/plain": [
       ":Curve   [Date]   (Daily Returns)"
      ]
     },
     "execution_count": 71,
     "metadata": {
      "application/vnd.holoviews_exec.v0+json": {
       "id": "3703"
      }
     },
     "output_type": "execute_result"
    }
   ],
   "source": [
    "# Monthly average change in prices\n",
    "MA_btc_daily_ret = btc_dly_ret.rolling(window = 30).mean()\n",
    "\n",
    "MA_btc_daily_ret.hvplot(figsize = (20,10), title = '30 day Rolling Average ')"
   ]
  },
  {
   "cell_type": "markdown",
   "id": "1849c41b-1ba4-4af5-884c-a1a92f7b7808",
   "metadata": {},
   "source": [
    "### Plotting bitcoin closing prices "
   ]
  },
  {
   "cell_type": "code",
   "execution_count": 72,
   "id": "53bfef46-b509-4e9d-b7e4-a6ad2e29298b",
   "metadata": {},
   "outputs": [
    {
     "data": {},
     "metadata": {},
     "output_type": "display_data"
    },
    {
     "data": {
      "application/vnd.holoviews_exec.v0+json": "",
      "text/html": [
       "<div id='3909'>\n",
       "\n",
       "\n",
       "\n",
       "\n",
       "\n",
       "  <div class=\"bk-root\" id=\"1214f5ae-5107-48ff-bb89-7b83e53b8744\" data-root-id=\"3909\"></div>\n",
       "</div>\n",
       "<script type=\"application/javascript\">(function(root) {\n",
       "  function embed_document(root) {\n",
       "    var docs_json = {\"f0aad0a3-c677-4e4a-971e-1c3a2ea407e5\":{\"defs\":[{\"extends\":null,\"module\":null,\"name\":\"ReactiveHTML1\",\"overrides\":[],\"properties\":[]},{\"extends\":null,\"module\":null,\"name\":\"FlexBox1\",\"overrides\":[],\"properties\":[{\"default\":\"flex-start\",\"kind\":null,\"name\":\"align_content\"},{\"default\":\"flex-start\",\"kind\":null,\"name\":\"align_items\"},{\"default\":\"row\",\"kind\":null,\"name\":\"flex_direction\"},{\"default\":\"wrap\",\"kind\":null,\"name\":\"flex_wrap\"},{\"default\":\"flex-start\",\"kind\":null,\"name\":\"justify_content\"}]},{\"extends\":null,\"module\":null,\"name\":\"GridStack1\",\"overrides\":[],\"properties\":[{\"default\":\"warn\",\"kind\":null,\"name\":\"mode\"},{\"default\":null,\"kind\":null,\"name\":\"ncols\"},{\"default\":null,\"kind\":null,\"name\":\"nrows\"},{\"default\":true,\"kind\":null,\"name\":\"allow_resize\"},{\"default\":true,\"kind\":null,\"name\":\"allow_drag\"},{\"default\":[],\"kind\":null,\"name\":\"state\"}]},{\"extends\":null,\"module\":null,\"name\":\"click1\",\"overrides\":[],\"properties\":[{\"default\":\"\",\"kind\":null,\"name\":\"terminal_output\"},{\"default\":\"\",\"kind\":null,\"name\":\"debug_name\"},{\"default\":0,\"kind\":null,\"name\":\"clears\"}]},{\"extends\":null,\"module\":null,\"name\":\"TemplateActions1\",\"overrides\":[],\"properties\":[{\"default\":0,\"kind\":null,\"name\":\"open_modal\"},{\"default\":0,\"kind\":null,\"name\":\"close_modal\"}]},{\"extends\":null,\"module\":null,\"name\":\"MaterialTemplateActions1\",\"overrides\":[],\"properties\":[{\"default\":0,\"kind\":null,\"name\":\"open_modal\"},{\"default\":0,\"kind\":null,\"name\":\"close_modal\"}]}],\"roots\":{\"references\":[{\"attributes\":{\"end\":71386.098,\"reset_end\":71386.098,\"reset_start\":25554.882,\"start\":25554.882,\"tags\":[[[\"Close\",\"Close\",null]]]},\"id\":\"3912\",\"type\":\"Range1d\"},{\"attributes\":{\"line_color\":\"#30a2da\",\"line_width\":2,\"x\":{\"field\":\"Date\"},\"y\":{\"field\":\"Close\"}},\"id\":\"3952\",\"type\":\"Line\"},{\"attributes\":{},\"id\":\"3945\",\"type\":\"Selection\"},{\"attributes\":{\"data\":{\"Close\":{\"__ndarray__\":\"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\",\"dtype\":\"float64\",\"order\":\"little\",\"shape\":[365]},\"Date\":{\"__ndarray__\":\"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\",\"dtype\":\"float64\",\"order\":\"little\",\"shape\":[365]}},\"selected\":{\"id\":\"3945\"},\"selection_policy\":{\"id\":\"3966\"}},\"id\":\"3944\",\"type\":\"ColumnDataSource\"},{\"attributes\":{\"months\":[0,6]},\"id\":\"3979\",\"type\":\"MonthsTicker\"},{\"attributes\":{},\"id\":\"3980\",\"type\":\"YearsTicker\"},{\"attributes\":{\"callback\":null,\"formatters\":{\"@{Date}\":\"datetime\"},\"renderers\":[{\"id\":\"3950\"}],\"tags\":[\"hv_created\"],\"tooltips\":[[\"Date\",\"@{Date}{%F %T}\"],[\"Close\",\"@{Close}\"]]},\"id\":\"3913\",\"type\":\"HoverTool\"},{\"attributes\":{\"source\":{\"id\":\"3944\"}},\"id\":\"3951\",\"type\":\"CDSView\"},{\"attributes\":{\"months\":[0,4,8]},\"id\":\"3978\",\"type\":\"MonthsTicker\"},{\"attributes\":{\"line_alpha\":0.1,\"line_color\":\"#30a2da\",\"line_width\":2,\"x\":{\"field\":\"Date\"},\"y\":{\"field\":\"Close\"}},\"id\":\"3948\",\"type\":\"Line\"},{\"attributes\":{\"line_color\":\"#30a2da\",\"line_width\":2,\"x\":{\"field\":\"Date\"},\"y\":{\"field\":\"Close\"}},\"id\":\"3947\",\"type\":\"Line\"},{\"attributes\":{\"end\":1640908800000.0,\"reset_end\":1640908800000.0,\"reset_start\":1609459200000.0,\"start\":1609459200000.0,\"tags\":[[[\"Date\",\"Date\",null]]]},\"id\":\"3911\",\"type\":\"Range1d\"},{\"attributes\":{},\"id\":\"3966\",\"type\":\"UnionRenderers\"},{\"attributes\":{\"axis\":{\"id\":\"3923\"},\"coordinates\":null,\"grid_line_color\":null,\"group\":null,\"ticker\":null},\"id\":\"3926\",\"type\":\"Grid\"},{\"attributes\":{\"margin\":[5,5,5,5],\"name\":\"HSpacer04451\",\"sizing_mode\":\"stretch_width\"},\"id\":\"3910\",\"type\":\"Spacer\"},{\"attributes\":{\"children\":[{\"id\":\"3910\"},{\"id\":\"3914\"},{\"id\":\"4003\"}],\"margin\":[0,0,0,0],\"name\":\"Row04447\",\"tags\":[\"embedded\"]},\"id\":\"3909\",\"type\":\"Row\"},{\"attributes\":{},\"id\":\"3958\",\"type\":\"AllLabels\"},{\"attributes\":{},\"id\":\"3919\",\"type\":\"LinearScale\"},{\"attributes\":{},\"id\":\"3954\",\"type\":\"DatetimeTickFormatter\"},{\"attributes\":{},\"id\":\"3955\",\"type\":\"AllLabels\"},{\"attributes\":{},\"id\":\"3921\",\"type\":\"LinearScale\"},{\"attributes\":{\"tools\":[{\"id\":\"3913\"},{\"id\":\"3931\"},{\"id\":\"3932\"},{\"id\":\"3933\"},{\"id\":\"3934\"},{\"id\":\"3935\"}]},\"id\":\"3937\",\"type\":\"Toolbar\"},{\"attributes\":{\"below\":[{\"id\":\"3923\"}],\"center\":[{\"id\":\"3926\"},{\"id\":\"3930\"}],\"height\":300,\"left\":[{\"id\":\"3927\"}],\"margin\":[5,5,5,5],\"min_border_bottom\":10,\"min_border_left\":10,\"min_border_right\":10,\"min_border_top\":10,\"renderers\":[{\"id\":\"3950\"}],\"sizing_mode\":\"fixed\",\"title\":{\"id\":\"3915\"},\"toolbar\":{\"id\":\"3937\"},\"width\":700,\"x_range\":{\"id\":\"3911\"},\"x_scale\":{\"id\":\"3919\"},\"y_range\":{\"id\":\"3912\"},\"y_scale\":{\"id\":\"3921\"}},\"id\":\"3914\",\"subtype\":\"Figure\",\"type\":\"Plot\"},{\"attributes\":{},\"id\":\"3957\",\"type\":\"BasicTickFormatter\"},{\"attributes\":{\"coordinates\":null,\"data_source\":{\"id\":\"3944\"},\"glyph\":{\"id\":\"3947\"},\"group\":null,\"hover_glyph\":null,\"muted_glyph\":{\"id\":\"3949\"},\"nonselection_glyph\":{\"id\":\"3948\"},\"selection_glyph\":{\"id\":\"3952\"},\"view\":{\"id\":\"3951\"}},\"id\":\"3950\",\"type\":\"GlyphRenderer\"},{\"attributes\":{\"axis_label\":\"Date\",\"coordinates\":null,\"formatter\":{\"id\":\"3954\"},\"group\":null,\"major_label_policy\":{\"id\":\"3955\"},\"ticker\":{\"id\":\"3924\"}},\"id\":\"3923\",\"type\":\"DatetimeAxis\"},{\"attributes\":{\"coordinates\":null,\"group\":null,\"text_color\":\"black\",\"text_font_size\":\"12pt\"},\"id\":\"3915\",\"type\":\"Title\"},{\"attributes\":{\"line_alpha\":0.2,\"line_color\":\"#30a2da\",\"line_width\":2,\"x\":{\"field\":\"Date\"},\"y\":{\"field\":\"Close\"}},\"id\":\"3949\",\"type\":\"Line\"},{\"attributes\":{},\"id\":\"3932\",\"type\":\"PanTool\"},{\"attributes\":{\"axis_label\":\"Close\",\"coordinates\":null,\"formatter\":{\"id\":\"3957\"},\"group\":null,\"major_label_policy\":{\"id\":\"3958\"},\"ticker\":{\"id\":\"3928\"}},\"id\":\"3927\",\"type\":\"LinearAxis\"},{\"attributes\":{\"axis\":{\"id\":\"3927\"},\"coordinates\":null,\"dimension\":1,\"grid_line_color\":null,\"group\":null,\"ticker\":null},\"id\":\"3930\",\"type\":\"Grid\"},{\"attributes\":{\"mantissas\":[1,2,5],\"max_interval\":500.0,\"num_minor_ticks\":0},\"id\":\"3969\",\"type\":\"AdaptiveTicker\"},{\"attributes\":{\"num_minor_ticks\":5,\"tickers\":[{\"id\":\"3969\"},{\"id\":\"3970\"},{\"id\":\"3971\"},{\"id\":\"3972\"},{\"id\":\"3973\"},{\"id\":\"3974\"},{\"id\":\"3975\"},{\"id\":\"3976\"},{\"id\":\"3977\"},{\"id\":\"3978\"},{\"id\":\"3979\"},{\"id\":\"3980\"}]},\"id\":\"3924\",\"type\":\"DatetimeTicker\"},{\"attributes\":{\"base\":60,\"mantissas\":[1,2,5,10,15,20,30],\"max_interval\":1800000.0,\"min_interval\":1000.0,\"num_minor_ticks\":0},\"id\":\"3970\",\"type\":\"AdaptiveTicker\"},{\"attributes\":{},\"id\":\"3928\",\"type\":\"BasicTicker\"},{\"attributes\":{\"base\":24,\"mantissas\":[1,2,4,6,8,12],\"max_interval\":43200000.0,\"min_interval\":3600000.0,\"num_minor_ticks\":0},\"id\":\"3971\",\"type\":\"AdaptiveTicker\"},{\"attributes\":{},\"id\":\"3933\",\"type\":\"WheelZoomTool\"},{\"attributes\":{\"months\":[0,1,2,3,4,5,6,7,8,9,10,11]},\"id\":\"3976\",\"type\":\"MonthsTicker\"},{\"attributes\":{\"months\":[0,2,4,6,8,10]},\"id\":\"3977\",\"type\":\"MonthsTicker\"},{\"attributes\":{},\"id\":\"3931\",\"type\":\"SaveTool\"},{\"attributes\":{\"days\":[1,15]},\"id\":\"3975\",\"type\":\"DaysTicker\"},{\"attributes\":{\"margin\":[5,5,5,5],\"name\":\"HSpacer04452\",\"sizing_mode\":\"stretch_width\"},\"id\":\"4003\",\"type\":\"Spacer\"},{\"attributes\":{\"days\":[1,2,3,4,5,6,7,8,9,10,11,12,13,14,15,16,17,18,19,20,21,22,23,24,25,26,27,28,29,30,31]},\"id\":\"3972\",\"type\":\"DaysTicker\"},{\"attributes\":{\"overlay\":{\"id\":\"3936\"}},\"id\":\"3934\",\"type\":\"BoxZoomTool\"},{\"attributes\":{\"days\":[1,4,7,10,13,16,19,22,25,28]},\"id\":\"3973\",\"type\":\"DaysTicker\"},{\"attributes\":{},\"id\":\"3935\",\"type\":\"ResetTool\"},{\"attributes\":{\"days\":[1,8,15,22]},\"id\":\"3974\",\"type\":\"DaysTicker\"},{\"attributes\":{\"bottom_units\":\"screen\",\"coordinates\":null,\"fill_alpha\":0.5,\"fill_color\":\"lightgrey\",\"group\":null,\"left_units\":\"screen\",\"level\":\"overlay\",\"line_alpha\":1.0,\"line_color\":\"black\",\"line_dash\":[4,4],\"line_width\":2,\"right_units\":\"screen\",\"syncable\":false,\"top_units\":\"screen\"},\"id\":\"3936\",\"type\":\"BoxAnnotation\"}],\"root_ids\":[\"3909\"]},\"title\":\"Bokeh Application\",\"version\":\"2.4.2\"}};\n",
       "    var render_items = [{\"docid\":\"f0aad0a3-c677-4e4a-971e-1c3a2ea407e5\",\"root_ids\":[\"3909\"],\"roots\":{\"3909\":\"1214f5ae-5107-48ff-bb89-7b83e53b8744\"}}];\n",
       "    root.Bokeh.embed.embed_items_notebook(docs_json, render_items);\n",
       "  }\n",
       "  if (root.Bokeh !== undefined && root.Bokeh.Panel !== undefined) {\n",
       "    embed_document(root);\n",
       "  } else {\n",
       "    var attempts = 0;\n",
       "    var timer = setInterval(function(root) {\n",
       "      if (root.Bokeh !== undefined && root.Bokeh.Panel !== undefined) {\n",
       "        clearInterval(timer);\n",
       "        embed_document(root);\n",
       "      } else if (document.readyState == \"complete\") {\n",
       "        attempts++;\n",
       "        if (attempts > 200) {\n",
       "          clearInterval(timer);\n",
       "          console.log(\"Bokeh: ERROR: Unable to run BokehJS code because BokehJS library is missing\");\n",
       "        }\n",
       "      }\n",
       "    }, 25, root)\n",
       "  }\n",
       "})(window);</script>"
      ],
      "text/plain": [
       ":Curve   [Date]   (Close)"
      ]
     },
     "execution_count": 72,
     "metadata": {
      "application/vnd.holoviews_exec.v0+json": {
       "id": "3909"
      }
     },
     "output_type": "execute_result"
    }
   ],
   "source": [
    "# Plotting bitcoin prices within the period\n",
    "btc.hvplot()"
   ]
  },
  {
   "cell_type": "markdown",
   "id": "2e96c19b-cf69-4e52-ae60-73a9fba6311d",
   "metadata": {},
   "source": [
    "### Calculate Average value of the closing prices and daily returns"
   ]
  },
  {
   "cell_type": "code",
   "execution_count": 73,
   "id": "73c637b9-9897-49a5-9179-be74efc528b8",
   "metadata": {},
   "outputs": [
    {
     "data": {
      "text/plain": [
       "Close    47436.932247\n",
       "dtype: float64"
      ]
     },
     "execution_count": 73,
     "metadata": {},
     "output_type": "execute_result"
    }
   ],
   "source": [
    "#Average of closing prices\n",
    "btc.mean()"
   ]
  },
  {
   "cell_type": "code",
   "execution_count": 74,
   "id": "5e555602-9404-409f-a291-211286240bbb",
   "metadata": {},
   "outputs": [
    {
     "data": {
      "text/plain": [
       "Daily Returns    0.002135\n",
       "dtype: float64"
      ]
     },
     "execution_count": 74,
     "metadata": {},
     "output_type": "execute_result"
    }
   ],
   "source": [
    "#Average of daily returns\n",
    "btc_dly_ret.mean()"
   ]
  },
  {
   "cell_type": "markdown",
   "id": "eac700fe-5c3a-4132-8559-2e9ae7f74441",
   "metadata": {},
   "source": [
    "### Calculate Standard Deviation "
   ]
  },
  {
   "cell_type": "code",
   "execution_count": 75,
   "id": "bf6f5606-109a-4646-95f0-db999719e756",
   "metadata": {},
   "outputs": [
    {
     "data": {
      "text/plain": [
       "Daily Returns    0.042144\n",
       "dtype: float64"
      ]
     },
     "execution_count": 75,
     "metadata": {},
     "output_type": "execute_result"
    }
   ],
   "source": [
    "#Standard deviation for daily returns\n",
    "btc_dly_ret.std()\n"
   ]
  },
  {
   "cell_type": "markdown",
   "id": "6458ee63-4928-4c94-b376-be855b981d4c",
   "metadata": {},
   "source": [
    "### Calculate the maximum and minimum values"
   ]
  },
  {
   "cell_type": "code",
   "execution_count": 76,
   "id": "9b90894a-5235-403e-b405-efbb5faa5e58",
   "metadata": {},
   "outputs": [
    {
     "data": {
      "text/plain": [
       "67566.83"
      ]
     },
     "execution_count": 76,
     "metadata": {},
     "output_type": "execute_result"
    }
   ],
   "source": [
    "# Getting the maximum closing price\n",
    "btc['Close'].max()"
   ]
  },
  {
   "cell_type": "code",
   "execution_count": 77,
   "id": "c6b950cd-34a4-4388-9f7a-1860c8086e05",
   "metadata": {},
   "outputs": [
    {
     "data": {
      "text/plain": [
       "datetime.date(2021, 11, 8)"
      ]
     },
     "execution_count": 77,
     "metadata": {},
     "output_type": "execute_result"
    }
   ],
   "source": [
    "# Date for the maximum value\n",
    "btc['Close'].idxmax()"
   ]
  },
  {
   "cell_type": "code",
   "execution_count": 78,
   "id": "6f4a60a0-a3fc-44be-9676-516069d5c0e0",
   "metadata": {},
   "outputs": [
    {
     "data": {
      "text/plain": [
       "29374.15"
      ]
     },
     "execution_count": 78,
     "metadata": {},
     "output_type": "execute_result"
    }
   ],
   "source": [
    "# Getting the minimum closing price\n",
    "btc['Close'].min()"
   ]
  },
  {
   "cell_type": "code",
   "execution_count": 79,
   "id": "60baa132-d443-4c26-b507-0b66cd428629",
   "metadata": {},
   "outputs": [
    {
     "data": {
      "text/plain": [
       "datetime.date(2021, 1, 1)"
      ]
     },
     "execution_count": 79,
     "metadata": {},
     "output_type": "execute_result"
    }
   ],
   "source": [
    "#Date for the minimum value\n",
    "btc['Close'].idxmin()"
   ]
  },
  {
   "cell_type": "markdown",
   "id": "74f8c377-0afc-45ab-a2cd-99e0e871965f",
   "metadata": {},
   "source": [
    "### Concatenating closing prices and daily returns in a single dataframe"
   ]
  },
  {
   "cell_type": "code",
   "execution_count": 80,
   "id": "d58fea8b-4086-4d44-84cb-b19740965acd",
   "metadata": {},
   "outputs": [],
   "source": [
    "# Concatenate closing prices and daily returns\n",
    "combined_btc_data = pd.concat([btc,btc_dly_ret], axis= 'columns', join= \"inner\")\n",
    "combined_btc_data.dropna(inplace= True)"
   ]
  },
  {
   "cell_type": "markdown",
   "id": "97acdb32-2544-480e-a8e3-9d4d5977f926",
   "metadata": {},
   "source": [
    "### Saving the final dataframe into a csv file"
   ]
  },
  {
   "cell_type": "code",
   "execution_count": 81,
   "id": "79b85a64-92e1-489e-bb9c-e18f77f55004",
   "metadata": {},
   "outputs": [],
   "source": [
    "# Saving into a csv file\n",
    "combined_btc_data.to_csv('./Resources/combined_bitcoin_data.csv')"
   ]
  },
  {
   "cell_type": "code",
   "execution_count": null,
   "id": "6bda81f0-0ef5-4d4e-8c9e-01608beb1a0d",
   "metadata": {},
   "outputs": [],
   "source": []
  }
 ],
 "metadata": {
  "kernelspec": {
   "display_name": "Python 3 (ipykernel)",
   "language": "python",
   "name": "python3"
  },
  "language_info": {
   "codemirror_mode": {
    "name": "ipython",
    "version": 3
   },
   "file_extension": ".py",
   "mimetype": "text/x-python",
   "name": "python",
   "nbconvert_exporter": "python",
   "pygments_lexer": "ipython3",
   "version": "3.9.7"
  }
 },
 "nbformat": 4,
 "nbformat_minor": 5
}
